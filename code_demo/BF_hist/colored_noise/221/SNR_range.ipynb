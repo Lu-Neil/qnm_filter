{
 "cells": [
  {
   "cell_type": "code",
   "execution_count": 8,
   "id": "3f54c2d7",
   "metadata": {
    "ExecuteTime": {
     "end_time": "2024-07-10T06:14:36.653022Z",
     "start_time": "2024-07-10T06:14:36.650645Z"
    }
   },
   "outputs": [],
   "source": [
    "import matplotlib.pyplot as pl\n",
    "import numpy as np\n",
    "import random\n",
    "import qnm_filter\n",
    "import qnm"
   ]
  },
  {
   "cell_type": "code",
   "execution_count": 9,
   "id": "24e6377c",
   "metadata": {
    "ExecuteTime": {
     "end_time": "2024-07-10T06:14:36.847316Z",
     "start_time": "2024-07-10T06:14:36.838332Z"
    }
   },
   "outputs": [],
   "source": [
    "def signal_creator(noise_scale):\n",
    "    global signal, signal220, signal221, signalH_noise, t_range, mass\n",
    "    mass_in_solar = random.uniform(50, 120)\n",
    "    chi_inject = random.uniform(0, 0.95)\n",
    "    injected = (mass_in_solar, chi_inject)\n",
    "    mass = qnm_filter.Filter.mass_unit(injected[0])\n",
    "    omega220 = qnm.modes_cache(s=-2,l=2,m=2,n=0)(a=injected[1])[0]\n",
    "    omega221 = qnm.modes_cache(s=-2,l=2,m=2,n=1)(a=injected[1])[0]\n",
    "\n",
    "    mmax = 8.4 * 1e-21\n",
    "    phase1 = random.uniform(0, 2*np.pi)\n",
    "    A220x = mmax*np.cos(phase1)\n",
    "    A220y = mmax*np.sin(phase1)\n",
    "    phase2 = random.uniform(0, 2*np.pi)\n",
    "    A221x = mmax*np.cos(phase2)\n",
    "    A221y = mmax*np.sin(phase2)\n",
    "\n",
    "    amp220 = random.uniform(0.7, 1.3)\n",
    "    amp221 = random.uniform(0.7, 1.3)\n",
    "\n",
    "    sampling_frequency = 4096 * 1  # in Hz\n",
    "    duration = 4  # in second\n",
    "    t_range = np.arange(-duration / 2, duration / 2, 1 / sampling_frequency)\n",
    "    signal220 = np.real(amp220 * (A220x + 1j * A220y) * np.exp(-1j * omega220 * np.abs(t_range / mass)))\n",
    "    signal221 = np.real(amp221 * (A221x + 1j * A221y) * np.exp(-1j * omega221 * np.abs(t_range / mass)))\n",
    "    \n",
    "    bilby_ifo = qnm_filter.set_bilby_predefined_ifo(\n",
    "    \"H1\", sampling_frequency, duration, start_time=-duration / 2\n",
    ")\n",
    "    signalH_noise = noise_scale*qnm_filter.bilby_get_strain(bilby_ifo, 0.0)\n",
    "    signal = signal220+signal221+signalH_noise"
   ]
  },
  {
   "cell_type": "code",
   "execution_count": 10,
   "id": "7dad34fe",
   "metadata": {
    "ExecuteTime": {
     "end_time": "2024-07-10T06:14:38.783183Z",
     "start_time": "2024-07-10T06:14:38.778031Z"
    }
   },
   "outputs": [],
   "source": [
    "def injection_evidence():\n",
    "    fit = qnm_filter.Network(segment_length=0.2, srate=4096 * 1, t_init=3.0*mass)\n",
    "    fit.original_data['H1'] = qnm_filter.RealData(signal, index=t_range)\n",
    "    fit.detector_alignment()\n",
    "    fit.pure_noise = {}\n",
    "    fit.pure_noise['H1'] = qnm_filter.RealData(signalH_noise, index=t_range)\n",
    "    fit.condition_data('original_data')\n",
    "    fit.condition_data('pure_noise')\n",
    "    fit.compute_acfs('pure_noise')\n",
    "    fit.cholesky_decomposition()\n",
    "    fit.first_index()\n",
    "    \n",
    "    fit.pure_nr = {}\n",
    "    fit.pure_nr[\"H1\"] = qnm_filter.RealData(signal220+signal221, index=t_range, ifo=\"H1\")\n",
    "    fit.condition_data('pure_nr')\n",
    "    SNRtot_MF = fit.compute_SNR(\n",
    "        fit.truncate_data(fit.original_data)[\"H1\"],\n",
    "        fit.truncate_data(fit.pure_nr)[\"H1\"],\n",
    "        \"H1\",\n",
    "        False,\n",
    "    )\n",
    "    \n",
    "    SNRtot_opt = fit.compute_SNR(\n",
    "        None,\n",
    "        fit.truncate_data(fit.pure_nr)[\"H1\"],\n",
    "        \"H1\",\n",
    "        True,\n",
    "    )\n",
    "    return SNRtot_MF, SNRtot_opt"
   ]
  },
  {
   "cell_type": "code",
   "execution_count": 11,
   "id": "c91f6778",
   "metadata": {
    "ExecuteTime": {
     "end_time": "2024-07-10T06:14:39.033512Z",
     "start_time": "2024-07-10T06:14:39.010736Z"
    }
   },
   "outputs": [],
   "source": [
    "signal_creator(1)"
   ]
  },
  {
   "cell_type": "code",
   "execution_count": 12,
   "id": "6a146d91",
   "metadata": {
    "ExecuteTime": {
     "end_time": "2024-07-10T06:14:39.480931Z",
     "start_time": "2024-07-10T06:14:39.441282Z"
    }
   },
   "outputs": [
    {
     "name": "stdout",
     "output_type": "stream",
     "text": [
      "87.64476370508538\n"
     ]
    }
   ],
   "source": [
    "noise_scale = 2\n",
    "fit = qnm_filter.Network(segment_length=0.2, srate=4096 * 1, t_init=3.0*mass)\n",
    "fit.original_data['H1'] = qnm_filter.RealData(signal220+signal221+signalH_noise*noise_scale, index=t_range)\n",
    "fit.detector_alignment()\n",
    "fit.pure_noise = {}\n",
    "fit.pure_noise['H1'] = qnm_filter.RealData(signalH_noise*noise_scale, index=t_range)\n",
    "fit.condition_data('original_data')\n",
    "fit.condition_data('pure_noise')\n",
    "fit.compute_acfs('pure_noise')\n",
    "fit.cholesky_decomposition()\n",
    "fit.first_index()\n",
    "\n",
    "fit.pure_nr = {}\n",
    "fit.pure_nr[\"H1\"] = qnm_filter.RealData(signal220+signal221, index=t_range, ifo=\"H1\")\n",
    "fit.condition_data('pure_nr')\n",
    "SNRtot_MF = fit.compute_SNR(\n",
    "    fit.truncate_data(fit.original_data)[\"H1\"],\n",
    "    fit.truncate_data(fit.pure_nr)[\"H1\"],\n",
    "    \"H1\",\n",
    "    False,\n",
    ")\n",
    "print(SNRtot_MF)"
   ]
  },
  {
   "cell_type": "code",
   "execution_count": 17,
   "id": "d707de6c",
   "metadata": {
    "ExecuteTime": {
     "end_time": "2024-07-10T06:15:05.731693Z",
     "start_time": "2024-07-10T06:15:03.571127Z"
    }
   },
   "outputs": [],
   "source": [
    "lower = 1\n",
    "upper = 10\n",
    "noise_space = np.power(np.linspace(5, 0.03, 50), -1)\n",
    "temp_arr = []\n",
    "\n",
    "for i in noise_space:\n",
    "    signal_creator(i)\n",
    "    temp_arr.append(injection_evidence())\n",
    "\n",
    "temp_arr = np.asarray(temp_arr)"
   ]
  },
  {
   "cell_type": "code",
   "execution_count": 18,
   "id": "800bcefa",
   "metadata": {
    "ExecuteTime": {
     "end_time": "2024-07-10T06:15:05.885483Z",
     "start_time": "2024-07-10T06:15:05.733981Z"
    }
   },
   "outputs": [
    {
     "data": {
      "image/png": "[encoded data removed]",
      "text/plain": [
       "<Figure size 640x480 with 1 Axes>"
      ]
     },
     "metadata": {},
     "output_type": "display_data"
    }
   ],
   "source": [
    "pl.hist(temp_arr[:,0], bins=20);"
   ]
  },
  {
   "cell_type": "code",
   "execution_count": null,
   "id": "88eaded7",
   "metadata": {},
   "outputs": [],
   "source": []
  }
 ],
 "metadata": {
  "kernelspec": {
   "display_name": "Python 3 (ipykernel)",
   "language": "python",
   "name": "python3"
  },
  "language_info": {
   "codemirror_mode": {
    "name": "ipython",
    "version": 3
   },
   "file_extension": ".py",
   "mimetype": "text/x-python",
   "name": "python",
   "nbconvert_exporter": "python",
   "pygments_lexer": "ipython3",
   "version": "3.10.8"
  },
  "toc": {
   "base_numbering": 1,
   "nav_menu": {},
   "number_sections": true,
   "sideBar": true,
   "skip_h1_title": true,
   "title_cell": "Table of Contents",
   "title_sidebar": "Contents",
   "toc_cell": false,
   "toc_position": {},
   "toc_section_display": true,
   "toc_window_display": false
  }
 },
 "nbformat": 4,
 "nbformat_minor": 5
}
