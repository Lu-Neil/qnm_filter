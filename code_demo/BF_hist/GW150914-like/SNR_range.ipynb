{
 "cells": [
  {
   "cell_type": "code",
   "execution_count": 6,
   "id": "037fd153",
   "metadata": {
    "ExecuteTime": {
     "end_time": "2024-05-08T21:50:54.704384Z",
     "start_time": "2024-05-08T21:50:54.701415Z"
    }
   },
   "outputs": [],
   "source": [
    "import numpy as np\n",
    "from scipy.interpolate import interp1d\n",
    "import qnm_filter\n",
    "import sys\n",
    "import qnm\n",
    "import random\n",
    "import argparse\n",
    "from scipy.special import logsumexp\n",
    "from pathlib import Path\n",
    "import matplotlib.pyplot as pl\n",
    "import glob\n",
    "from gwpy.timeseries import TimeSeries"
   ]
  },
  {
   "cell_type": "code",
   "execution_count": 2,
   "id": "00177a6b",
   "metadata": {
    "ExecuteTime": {
     "end_time": "2024-05-08T21:49:34.845110Z",
     "start_time": "2024-05-08T21:49:34.840620Z"
    }
   },
   "outputs": [],
   "source": [
    "def noise_generator():\n",
    "    global noise\n",
    "    fsamp = 1*4096\n",
    "    delta_t = 1/fsamp\n",
    "    t0 = 0\n",
    "    duration = 4\n",
    "    time = np.arange(duration*fsamp)*delta_t + t0\n",
    "    \n",
    "    data_psd = TimeSeries.read('H-H1_GWOSC_16KHZ_R1-1126259447-32.hdf5', format='hdf5.gwosc').psd()\n",
    "\n",
    "    qnm_noise = qnm_filter.Noise(freq=data_psd.frequencies, psd=data_psd.value)\n",
    "    ifo = qnm_filter.set_bilby_ifo(qnm_noise, sampling_frequency=fsamp, duration=duration, start_time=t0,\n",
    "    \t\t\t\t    minimum_frequency=10, maximum_frequency=2000)\n",
    "    noise = ifo.strain_data.time_domain_strain"
   ]
  },
  {
   "cell_type": "code",
   "execution_count": 23,
   "id": "c9e91695",
   "metadata": {
    "ExecuteTime": {
     "end_time": "2024-05-08T21:52:55.036940Z",
     "start_time": "2024-05-08T21:52:55.024430Z"
    }
   },
   "outputs": [],
   "source": [
    "def signal_creator(noise_scale):\n",
    "    global signal, signal220, t_range, mass\n",
    "    mass_in_solar = random.uniform(50, 120)\n",
    "    chi_inject = random.uniform(0.0, 0.95)\n",
    "    injected = (mass_in_solar, chi_inject)\n",
    "    mass = qnm_filter.Filter.mass_unit(injected[0])\n",
    "    omega220 = qnm.modes_cache(s=-2,l=2,m=2,n=0)(a=injected[1])[0]\n",
    "\n",
    "    mmax = 8.4 * 1e-21 * noise_scale\n",
    "    phase1 = random.uniform(0, 2*np.pi)\n",
    "    A220x = mmax*np.cos(phase1)\n",
    "    A220y = mmax*np.sin(phase1)\n",
    "\n",
    "    sampling_frequency = 4096 * 1  # in Hz\n",
    "    duration = 4  # in second\n",
    "    t_range = np.arange(-duration / 2, duration / 2, 1 / sampling_frequency)\n",
    "    signal220 = np.real((A220x + 1j * A220y) * np.exp(-1j * omega220 * np.abs(t_range / mass)))\n",
    "    \n",
    "    signal = signal220+noise\n",
    "\n",
    "def injection_evidence():\n",
    "    fit = qnm_filter.Network(segment_length=0.2, srate=4096 * 1, t_init=3.0*mass)\n",
    "    fit.original_data['H1'] = qnm_filter.RealData(signal, index=t_range)\n",
    "    fit.detector_alignment()\n",
    "    fit.pure_noise = {}\n",
    "    fit.pure_noise['H1'] = qnm_filter.RealData(noise, index=t_range)\n",
    "    fit.condition_data('original_data')\n",
    "    fit.condition_data('pure_noise')\n",
    "    fit.compute_acfs('pure_noise')\n",
    "    fit.cholesky_decomposition()\n",
    "    fit.first_index()\n",
    "    \n",
    "    fit.pure_nr = {}\n",
    "    fit.pure_nr[\"H1\"] = qnm_filter.RealData(signal220, index=t_range, ifo=\"H1\")\n",
    "    fit.condition_data('pure_nr')\n",
    "    SNRtot_MF = fit.compute_SNR(\n",
    "        fit.truncate_data(fit.original_data)[\"H1\"],\n",
    "        fit.truncate_data(fit.pure_nr)[\"H1\"],\n",
    "        \"H1\",\n",
    "        False,\n",
    "    )\n",
    "    \n",
    "    SNRtot_opt = fit.compute_SNR(\n",
    "        None,\n",
    "        fit.truncate_data(fit.pure_nr)[\"H1\"],\n",
    "        \"H1\",\n",
    "        True,\n",
    "    )\n",
    "    \n",
    "    return np.array([SNRtot_opt])"
   ]
  },
  {
   "cell_type": "code",
   "execution_count": 24,
   "id": "6dba1158",
   "metadata": {
    "ExecuteTime": {
     "end_time": "2024-05-08T21:52:56.000635Z",
     "start_time": "2024-05-08T21:52:55.384719Z"
    }
   },
   "outputs": [],
   "source": [
    "result = []\n",
    "noise_generator()\n",
    "\n",
    "noise_space = np.linspace(0.1,2,20)\n",
    "for i in noise_space:\n",
    "    signal_creator(i)\n",
    "    result.append(injection_evidence())"
   ]
  },
  {
   "cell_type": "code",
   "execution_count": 25,
   "id": "4508455f",
   "metadata": {
    "ExecuteTime": {
     "end_time": "2024-05-08T21:52:56.216981Z",
     "start_time": "2024-05-08T21:52:56.002957Z"
    }
   },
   "outputs": [
    {
     "data": {
      "text/plain": [
       "[<matplotlib.lines.Line2D at 0x7f4b8b8aaaa0>]"
      ]
     },
     "execution_count": 25,
     "metadata": {},
     "output_type": "execute_result"
    },
    {
     "data": {
      "image/png": "[encoded data removed]",
      "text/plain": [
       "<Figure size 640x480 with 1 Axes>"
      ]
     },
     "metadata": {},
     "output_type": "display_data"
    }
   ],
   "source": [
    "pl.plot(result)"
   ]
  },
  {
   "cell_type": "code",
   "execution_count": null,
   "id": "562c31e4",
   "metadata": {},
   "outputs": [],
   "source": []
  }
 ],
 "metadata": {
  "kernelspec": {
   "display_name": "Python 3 (ipykernel)",
   "language": "python",
   "name": "python3"
  },
  "language_info": {
   "codemirror_mode": {
    "name": "ipython",
    "version": 3
   },
   "file_extension": ".py",
   "mimetype": "text/x-python",
   "name": "python",
   "nbconvert_exporter": "python",
   "pygments_lexer": "ipython3",
   "version": "3.10.8"
  },
  "toc": {
   "base_numbering": 1,
   "nav_menu": {},
   "number_sections": true,
   "sideBar": true,
   "skip_h1_title": true,
   "title_cell": "Table of Contents",
   "title_sidebar": "Contents",
   "toc_cell": false,
   "toc_position": {},
   "toc_section_display": true,
   "toc_window_display": false
  }
 },
 "nbformat": 4,
 "nbformat_minor": 5
}
