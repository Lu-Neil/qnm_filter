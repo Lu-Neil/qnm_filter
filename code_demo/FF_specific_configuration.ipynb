{
 "cells": [
  {
   "cell_type": "markdown",
   "id": "304dc7e7",
   "metadata": {},
   "source": [
    "# Computes the FF either analytically or filtering computationally and calculating SNR / SNR_res\n",
    "### Note that for high chi, increasing the srate may be necessary"
   ]
  },
  {
   "cell_type": "code",
   "execution_count": 20,
   "id": "56f9e8a7",
   "metadata": {
    "ExecuteTime": {
     "end_time": "2025-01-13T14:47:36.566220Z",
     "start_time": "2025-01-13T14:47:36.559516Z"
    }
   },
   "outputs": [],
   "source": [
    "%matplotlib inline\n",
    "%config InlineBackend.figure_format = 'retina'"
   ]
  },
  {
   "cell_type": "code",
   "execution_count": 21,
   "id": "5e42f812",
   "metadata": {
    "ExecuteTime": {
     "end_time": "2025-01-13T14:47:36.748261Z",
     "start_time": "2025-01-13T14:47:36.743335Z"
    }
   },
   "outputs": [],
   "source": [
    "import numpy as np\n",
    "import matplotlib.pyplot as pl\n",
    "import qnm_filter\n",
    "import qnm\n",
    "import astropy.constants as c\n",
    "T_MSUN = c.M_sun.value * c.G.value / c.c.value**3"
   ]
  },
  {
   "cell_type": "code",
   "execution_count": 27,
   "id": "565ae05e",
   "metadata": {
    "ExecuteTime": {
     "end_time": "2025-01-13T14:48:13.353085Z",
     "start_time": "2025-01-13T14:48:13.343519Z"
    }
   },
   "outputs": [],
   "source": [
    "def compute_FF(mass, chi):\n",
    "    w_inj, _, _ = qnm.modes_cache(s=-2,l=int(mode_inj[0]),m=int(mode_inj[1]),n=int(mode_inj[2]))(a=theoretical[1])\n",
    "    w_filt, _, _ = qnm.modes_cache(s=-2,l=int(mode_filt[0]),m=int(mode_filt[1]),n=int(mode_filt[2]))(chi)\n",
    "    w_inj /= theoretical[0]\n",
    "    w_filt /= mass\n",
    "    \n",
    "    filt = (w_inj-w_filt)/(w_inj-np.conj(w_filt))*(w_inj+np.conj(w_filt))/(w_inj+w_filt)\n",
    "    B = np.abs(filt)\n",
    "    psi = -np.angle(filt) #The (-) sign is negative and I think because of different conventions\n",
    "    f_inj = np.real(w_inj)/(2*np.pi)\n",
    "    tau_inj = -1/np.imag(w_inj)\n",
    "    wt = 2*np.pi*f_inj*tau_inj\n",
    "\n",
    "    temp0 = B**2*(1+wt**2+np.cos(2*(phi+psi))-wt*np.sin(2*(phi+psi)))\n",
    "    temp1 = 1+wt**2+np.cos(2*phi) - wt*np.sin(2*phi)\n",
    "    analytical_FF = np.sqrt(1-temp0/temp1)\n",
    "\n",
    "    return(analytical_FF)"
   ]
  },
  {
   "cell_type": "code",
   "execution_count": 30,
   "id": "1dea8242",
   "metadata": {
    "ExecuteTime": {
     "end_time": "2025-01-13T14:48:32.363268Z",
     "start_time": "2025-01-13T14:48:32.358604Z"
    }
   },
   "outputs": [],
   "source": [
    "mode_inj = '220'\n",
    "mode_filt = '330'\n",
    "phi = 0 #np.random.uniform(0, 2*np.pi)\n",
    "theoretical = [50, 0.5]"
   ]
  },
  {
   "cell_type": "code",
   "execution_count": 40,
   "id": "e9161dca",
   "metadata": {
    "ExecuteTime": {
     "end_time": "2025-01-13T15:04:48.529985Z",
     "start_time": "2025-01-13T15:04:31.616844Z"
    }
   },
   "outputs": [
    {
     "ename": "KeyboardInterrupt",
     "evalue": "",
     "output_type": "error",
     "traceback": [
      "\u001b[0;31m---------------------------------------------------------------------------\u001b[0m",
      "\u001b[0;31mKeyboardInterrupt\u001b[0m                         Traceback (most recent call last)",
      "Cell \u001b[0;32mIn[40], line 11\u001b[0m\n\u001b[1;32m      9\u001b[0m temp_results \u001b[38;5;241m=\u001b[39m ()\n\u001b[1;32m     10\u001b[0m \u001b[38;5;28;01mfor\u001b[39;00m mass, chi \u001b[38;5;129;01min\u001b[39;00m param_space:\n\u001b[0;32m---> 11\u001b[0m     FF \u001b[38;5;241m=\u001b[39m \u001b[43mcompute_FF\u001b[49m\u001b[43m(\u001b[49m\u001b[43mmass\u001b[49m\u001b[43m,\u001b[49m\u001b[43m \u001b[49m\u001b[43mchi\u001b[49m\u001b[43m)\u001b[49m\n\u001b[1;32m     12\u001b[0m     \u001b[38;5;28;01mif\u001b[39;00m FF \u001b[38;5;241m>\u001b[39m temp_FF:\n\u001b[1;32m     13\u001b[0m         temp_FF \u001b[38;5;241m=\u001b[39m FF\n",
      "Cell \u001b[0;32mIn[27], line 2\u001b[0m, in \u001b[0;36mcompute_FF\u001b[0;34m(mass, chi)\u001b[0m\n\u001b[1;32m      1\u001b[0m \u001b[38;5;28;01mdef\u001b[39;00m \u001b[38;5;21mcompute_FF\u001b[39m(mass, chi):\n\u001b[0;32m----> 2\u001b[0m     w_inj, _, _ \u001b[38;5;241m=\u001b[39m \u001b[43mqnm\u001b[49m\u001b[38;5;241;43m.\u001b[39;49m\u001b[43mmodes_cache\u001b[49m\u001b[43m(\u001b[49m\u001b[43ms\u001b[49m\u001b[38;5;241;43m=\u001b[39;49m\u001b[38;5;241;43m-\u001b[39;49m\u001b[38;5;241;43m2\u001b[39;49m\u001b[43m,\u001b[49m\u001b[43ml\u001b[49m\u001b[38;5;241;43m=\u001b[39;49m\u001b[38;5;28;43mint\u001b[39;49m\u001b[43m(\u001b[49m\u001b[43mmode_inj\u001b[49m\u001b[43m[\u001b[49m\u001b[38;5;241;43m0\u001b[39;49m\u001b[43m]\u001b[49m\u001b[43m)\u001b[49m\u001b[43m,\u001b[49m\u001b[43mm\u001b[49m\u001b[38;5;241;43m=\u001b[39;49m\u001b[38;5;28;43mint\u001b[39;49m\u001b[43m(\u001b[49m\u001b[43mmode_inj\u001b[49m\u001b[43m[\u001b[49m\u001b[38;5;241;43m1\u001b[39;49m\u001b[43m]\u001b[49m\u001b[43m)\u001b[49m\u001b[43m,\u001b[49m\u001b[43mn\u001b[49m\u001b[38;5;241;43m=\u001b[39;49m\u001b[38;5;28;43mint\u001b[39;49m\u001b[43m(\u001b[49m\u001b[43mmode_inj\u001b[49m\u001b[43m[\u001b[49m\u001b[38;5;241;43m2\u001b[39;49m\u001b[43m]\u001b[49m\u001b[43m)\u001b[49m\u001b[43m)\u001b[49m\u001b[43m(\u001b[49m\u001b[43ma\u001b[49m\u001b[38;5;241;43m=\u001b[39;49m\u001b[43mtheoretical\u001b[49m\u001b[43m[\u001b[49m\u001b[38;5;241;43m1\u001b[39;49m\u001b[43m]\u001b[49m\u001b[43m)\u001b[49m\n\u001b[1;32m      3\u001b[0m     w_filt, _, _ \u001b[38;5;241m=\u001b[39m qnm\u001b[38;5;241m.\u001b[39mmodes_cache(s\u001b[38;5;241m=\u001b[39m\u001b[38;5;241m-\u001b[39m\u001b[38;5;241m2\u001b[39m,l\u001b[38;5;241m=\u001b[39m\u001b[38;5;28mint\u001b[39m(mode_filt[\u001b[38;5;241m0\u001b[39m]),m\u001b[38;5;241m=\u001b[39m\u001b[38;5;28mint\u001b[39m(mode_filt[\u001b[38;5;241m1\u001b[39m]),n\u001b[38;5;241m=\u001b[39m\u001b[38;5;28mint\u001b[39m(mode_filt[\u001b[38;5;241m2\u001b[39m]))(chi)\n\u001b[1;32m      4\u001b[0m     w_inj \u001b[38;5;241m/\u001b[39m\u001b[38;5;241m=\u001b[39m theoretical[\u001b[38;5;241m0\u001b[39m]\n",
      "File \u001b[0;32m~/anaconda3/envs/ringdown/lib/python3.10/site-packages/qnm/spinsequence.py:431\u001b[0m, in \u001b[0;36mKerrSpinSeq.__call__\u001b[0;34m(self, a, store, interp_only, resolve_if_found)\u001b[0m\n\u001b[1;32m    426\u001b[0m     \u001b[38;5;28;01mreturn\u001b[39;00m omega_guess, A_guess, C_guess\n\u001b[1;32m    428\u001b[0m \u001b[38;5;28mself\u001b[39m\u001b[38;5;241m.\u001b[39msolver\u001b[38;5;241m.\u001b[39mset_params(a\u001b[38;5;241m=\u001b[39ma, omega_guess\u001b[38;5;241m=\u001b[39momega_guess,\n\u001b[1;32m    429\u001b[0m                        A_closest_to\u001b[38;5;241m=\u001b[39mA_guess)\n\u001b[0;32m--> 431\u001b[0m result \u001b[38;5;241m=\u001b[39m \u001b[38;5;28;43mself\u001b[39;49m\u001b[38;5;241;43m.\u001b[39;49m\u001b[43msolver\u001b[49m\u001b[38;5;241;43m.\u001b[39;49m\u001b[43mdo_solve\u001b[49m\u001b[43m(\u001b[49m\u001b[43m)\u001b[49m\n\u001b[1;32m    433\u001b[0m \u001b[38;5;28;01mif\u001b[39;00m (result \u001b[38;5;129;01mis\u001b[39;00m \u001b[38;5;28;01mNone\u001b[39;00m):\n\u001b[1;32m    434\u001b[0m     \u001b[38;5;28;01mraise\u001b[39;00m optimize\u001b[38;5;241m.\u001b[39mnonlin\u001b[38;5;241m.\u001b[39mNoConvergence(\u001b[38;5;124m'\u001b[39m\u001b[38;5;124mFailed to find \u001b[39m\u001b[38;5;124m'\u001b[39m\n\u001b[1;32m    435\u001b[0m                                         \u001b[38;5;124m'\u001b[39m\u001b[38;5;124mQNM in sequence \u001b[39m\u001b[38;5;124m'\u001b[39m\n\u001b[1;32m    436\u001b[0m                                         \u001b[38;5;124m'\u001b[39m\u001b[38;5;124mat a=\u001b[39m\u001b[38;5;132;01m{}\u001b[39;00m\u001b[38;5;124m'\u001b[39m\u001b[38;5;241m.\u001b[39mformat(a))\n",
      "File \u001b[0;32m~/anaconda3/envs/ringdown/lib/python3.10/site-packages/qnm/nearby.py:179\u001b[0m, in \u001b[0;36mNearbyRootFinder.do_solve\u001b[0;34m(self)\u001b[0m\n\u001b[1;32m    174\u001b[0m \u001b[38;5;250m\u001b[39m\u001b[38;5;124;03m\"\"\"Try to find a root of the continued fraction equation,\u001b[39;00m\n\u001b[1;32m    175\u001b[0m \u001b[38;5;124;03musing the parameters that have been set in :meth:`set_params`.\"\"\"\u001b[39;00m\n\u001b[1;32m    177\u001b[0m \u001b[38;5;66;03m# For the default (hybr) method, tol sets 'xtol', the\u001b[39;00m\n\u001b[1;32m    178\u001b[0m \u001b[38;5;66;03m# tolerance on omega.\u001b[39;00m\n\u001b[0;32m--> 179\u001b[0m \u001b[38;5;28mself\u001b[39m\u001b[38;5;241m.\u001b[39mopt_res \u001b[38;5;241m=\u001b[39m \u001b[43moptimize\u001b[49m\u001b[38;5;241;43m.\u001b[39;49m\u001b[43mroot\u001b[49m\u001b[43m(\u001b[49m\u001b[38;5;28;43mself\u001b[39;49m\u001b[43m,\u001b[49m\n\u001b[1;32m    180\u001b[0m \u001b[43m                             \u001b[49m\u001b[43m[\u001b[49m\u001b[43mnp\u001b[49m\u001b[38;5;241;43m.\u001b[39;49m\u001b[43mreal\u001b[49m\u001b[43m(\u001b[49m\u001b[38;5;28;43mself\u001b[39;49m\u001b[38;5;241;43m.\u001b[39;49m\u001b[43momega_guess\u001b[49m\u001b[43m)\u001b[49m\u001b[43m,\u001b[49m\u001b[43m \u001b[49m\u001b[43mnp\u001b[49m\u001b[38;5;241;43m.\u001b[39;49m\u001b[43mimag\u001b[49m\u001b[43m(\u001b[49m\u001b[38;5;28;43mself\u001b[39;49m\u001b[38;5;241;43m.\u001b[39;49m\u001b[43momega_guess\u001b[49m\u001b[43m)\u001b[49m\u001b[43m]\u001b[49m\u001b[43m,\u001b[49m\n\u001b[1;32m    181\u001b[0m \u001b[43m                             \u001b[49m\u001b[43mmethod\u001b[49m\u001b[43m \u001b[49m\u001b[38;5;241;43m=\u001b[39;49m\u001b[43m \u001b[49m\u001b[38;5;124;43m'\u001b[39;49m\u001b[38;5;124;43mhybr\u001b[39;49m\u001b[38;5;124;43m'\u001b[39;49m\u001b[43m,\u001b[49m\u001b[43m \u001b[49m\u001b[43mtol\u001b[49m\u001b[43m \u001b[49m\u001b[38;5;241;43m=\u001b[39;49m\u001b[43m \u001b[49m\u001b[38;5;28;43mself\u001b[39;49m\u001b[38;5;241;43m.\u001b[39;49m\u001b[43mtol\u001b[49m\u001b[43m)\u001b[49m\n\u001b[1;32m    183\u001b[0m \u001b[38;5;28;01mif\u001b[39;00m (\u001b[38;5;129;01mnot\u001b[39;00m \u001b[38;5;28mself\u001b[39m\u001b[38;5;241m.\u001b[39mopt_res\u001b[38;5;241m.\u001b[39msuccess):\n\u001b[1;32m    184\u001b[0m     tmp_opt_res \u001b[38;5;241m=\u001b[39m \u001b[38;5;28mself\u001b[39m\u001b[38;5;241m.\u001b[39mopt_res\n",
      "File \u001b[0;32m~/anaconda3/envs/ringdown/lib/python3.10/site-packages/scipy/optimize/_root.py:235\u001b[0m, in \u001b[0;36mroot\u001b[0;34m(fun, x0, args, method, jac, tol, callback, options)\u001b[0m\n\u001b[1;32m    232\u001b[0m         options\u001b[38;5;241m.\u001b[39msetdefault(\u001b[38;5;124m'\u001b[39m\u001b[38;5;124mfatol\u001b[39m\u001b[38;5;124m'\u001b[39m, np\u001b[38;5;241m.\u001b[39minf)\n\u001b[1;32m    234\u001b[0m \u001b[38;5;28;01mif\u001b[39;00m meth \u001b[38;5;241m==\u001b[39m \u001b[38;5;124m'\u001b[39m\u001b[38;5;124mhybr\u001b[39m\u001b[38;5;124m'\u001b[39m:\n\u001b[0;32m--> 235\u001b[0m     sol \u001b[38;5;241m=\u001b[39m \u001b[43m_root_hybr\u001b[49m\u001b[43m(\u001b[49m\u001b[43mfun\u001b[49m\u001b[43m,\u001b[49m\u001b[43m \u001b[49m\u001b[43mx0\u001b[49m\u001b[43m,\u001b[49m\u001b[43m \u001b[49m\u001b[43margs\u001b[49m\u001b[38;5;241;43m=\u001b[39;49m\u001b[43margs\u001b[49m\u001b[43m,\u001b[49m\u001b[43m \u001b[49m\u001b[43mjac\u001b[49m\u001b[38;5;241;43m=\u001b[39;49m\u001b[43mjac\u001b[49m\u001b[43m,\u001b[49m\u001b[43m \u001b[49m\u001b[38;5;241;43m*\u001b[39;49m\u001b[38;5;241;43m*\u001b[39;49m\u001b[43moptions\u001b[49m\u001b[43m)\u001b[49m\n\u001b[1;32m    236\u001b[0m \u001b[38;5;28;01melif\u001b[39;00m meth \u001b[38;5;241m==\u001b[39m \u001b[38;5;124m'\u001b[39m\u001b[38;5;124mlm\u001b[39m\u001b[38;5;124m'\u001b[39m:\n\u001b[1;32m    237\u001b[0m     sol \u001b[38;5;241m=\u001b[39m _root_leastsq(fun, x0, args\u001b[38;5;241m=\u001b[39margs, jac\u001b[38;5;241m=\u001b[39mjac, \u001b[38;5;241m*\u001b[39m\u001b[38;5;241m*\u001b[39moptions)\n",
      "File \u001b[0;32m~/anaconda3/envs/ringdown/lib/python3.10/site-packages/scipy/optimize/_minpack_py.py:240\u001b[0m, in \u001b[0;36m_root_hybr\u001b[0;34m(func, x0, args, jac, col_deriv, xtol, maxfev, band, eps, factor, diag, **unknown_options)\u001b[0m\n\u001b[1;32m    238\u001b[0m     \u001b[38;5;28;01mif\u001b[39;00m maxfev \u001b[38;5;241m==\u001b[39m \u001b[38;5;241m0\u001b[39m:\n\u001b[1;32m    239\u001b[0m         maxfev \u001b[38;5;241m=\u001b[39m \u001b[38;5;241m200\u001b[39m \u001b[38;5;241m*\u001b[39m (n \u001b[38;5;241m+\u001b[39m \u001b[38;5;241m1\u001b[39m)\n\u001b[0;32m--> 240\u001b[0m     retval \u001b[38;5;241m=\u001b[39m \u001b[43m_minpack\u001b[49m\u001b[38;5;241;43m.\u001b[39;49m\u001b[43m_hybrd\u001b[49m\u001b[43m(\u001b[49m\u001b[43mfunc\u001b[49m\u001b[43m,\u001b[49m\u001b[43m \u001b[49m\u001b[43mx0\u001b[49m\u001b[43m,\u001b[49m\u001b[43m \u001b[49m\u001b[43margs\u001b[49m\u001b[43m,\u001b[49m\u001b[43m \u001b[49m\u001b[38;5;241;43m1\u001b[39;49m\u001b[43m,\u001b[49m\u001b[43m \u001b[49m\u001b[43mxtol\u001b[49m\u001b[43m,\u001b[49m\u001b[43m \u001b[49m\u001b[43mmaxfev\u001b[49m\u001b[43m,\u001b[49m\n\u001b[1;32m    241\u001b[0m \u001b[43m                             \u001b[49m\u001b[43mml\u001b[49m\u001b[43m,\u001b[49m\u001b[43m \u001b[49m\u001b[43mmu\u001b[49m\u001b[43m,\u001b[49m\u001b[43m \u001b[49m\u001b[43mepsfcn\u001b[49m\u001b[43m,\u001b[49m\u001b[43m \u001b[49m\u001b[43mfactor\u001b[49m\u001b[43m,\u001b[49m\u001b[43m \u001b[49m\u001b[43mdiag\u001b[49m\u001b[43m)\u001b[49m\n\u001b[1;32m    242\u001b[0m \u001b[38;5;28;01melse\u001b[39;00m:\n\u001b[1;32m    243\u001b[0m     _check_func(\u001b[38;5;124m'\u001b[39m\u001b[38;5;124mfsolve\u001b[39m\u001b[38;5;124m'\u001b[39m, \u001b[38;5;124m'\u001b[39m\u001b[38;5;124mfprime\u001b[39m\u001b[38;5;124m'\u001b[39m, Dfun, x0, args, n, (n, n))\n",
      "File \u001b[0;32m~/anaconda3/envs/ringdown/lib/python3.10/site-packages/qnm/nearby.py:149\u001b[0m, in \u001b[0;36mNearbyRootFinder.__call__\u001b[0;34m(self, x)\u001b[0m\n\u001b[1;32m    147\u001b[0m c     \u001b[38;5;241m=\u001b[39m \u001b[38;5;28mself\u001b[39m\u001b[38;5;241m.\u001b[39ma \u001b[38;5;241m*\u001b[39m omega\n\u001b[1;32m    148\u001b[0m \u001b[38;5;66;03m# Separation constant at this a*omega\u001b[39;00m\n\u001b[0;32m--> 149\u001b[0m A     \u001b[38;5;241m=\u001b[39m \u001b[43msep_const_closest\u001b[49m\u001b[43m(\u001b[49m\u001b[38;5;28;43mself\u001b[39;49m\u001b[38;5;241;43m.\u001b[39;49m\u001b[43mA0\u001b[49m\u001b[43m,\u001b[49m\u001b[43m \u001b[49m\u001b[38;5;28;43mself\u001b[39;49m\u001b[38;5;241;43m.\u001b[39;49m\u001b[43ms\u001b[49m\u001b[43m,\u001b[49m\u001b[43m \u001b[49m\u001b[43mc\u001b[49m\u001b[43m,\u001b[49m\u001b[43m \u001b[49m\u001b[38;5;28;43mself\u001b[39;49m\u001b[38;5;241;43m.\u001b[39;49m\u001b[43mm\u001b[49m\u001b[43m,\u001b[49m\n\u001b[1;32m    150\u001b[0m \u001b[43m                          \u001b[49m\u001b[38;5;28;43mself\u001b[39;49m\u001b[38;5;241;43m.\u001b[39;49m\u001b[43ml_max\u001b[49m\u001b[43m)\u001b[49m\n\u001b[1;32m    152\u001b[0m \u001b[38;5;66;03m# We are trying to find a root of this function:\u001b[39;00m\n\u001b[1;32m    153\u001b[0m \u001b[38;5;66;03m# inv_err = radial.leaver_cf_trunc_inversion(omega, self.a,\u001b[39;00m\n\u001b[1;32m    154\u001b[0m \u001b[38;5;66;03m#                                            self.s, self.m, A,\u001b[39;00m\n\u001b[0;32m   (...)\u001b[0m\n\u001b[1;32m    159\u001b[0m \u001b[38;5;66;03m# Determine the value to use for cf_tol based on\u001b[39;00m\n\u001b[1;32m    160\u001b[0m \u001b[38;5;66;03m# the Jacobian, cf_tol = |d cf(\\omega)/d\\omega| tol.\u001b[39;00m\n\u001b[1;32m    161\u001b[0m inv_err, \u001b[38;5;28mself\u001b[39m\u001b[38;5;241m.\u001b[39mcf_err, \u001b[38;5;28mself\u001b[39m\u001b[38;5;241m.\u001b[39mn_frac \u001b[38;5;241m=\u001b[39m radial\u001b[38;5;241m.\u001b[39mleaver_cf_inv_lentz(omega, \u001b[38;5;28mself\u001b[39m\u001b[38;5;241m.\u001b[39ma,\n\u001b[1;32m    162\u001b[0m                                                   \u001b[38;5;28mself\u001b[39m\u001b[38;5;241m.\u001b[39ms, \u001b[38;5;28mself\u001b[39m\u001b[38;5;241m.\u001b[39mm, A,\n\u001b[1;32m    163\u001b[0m                                                   \u001b[38;5;28mself\u001b[39m\u001b[38;5;241m.\u001b[39mn_inv, \u001b[38;5;28mself\u001b[39m\u001b[38;5;241m.\u001b[39mcf_tol,\n\u001b[1;32m    164\u001b[0m                                                   \u001b[38;5;28mself\u001b[39m\u001b[38;5;241m.\u001b[39mNr_min, \u001b[38;5;28mself\u001b[39m\u001b[38;5;241m.\u001b[39mNr_max)\n",
      "File \u001b[0;32m~/anaconda3/envs/ringdown/lib/python3.10/site-packages/qnm/angular.py:326\u001b[0m, in \u001b[0;36msep_const_closest\u001b[0;34m(A0, s, c, m, l_max)\u001b[0m\n\u001b[1;32m    300\u001b[0m \u001b[38;5;28;01mdef\u001b[39;00m \u001b[38;5;21msep_const_closest\u001b[39m(A0, s, c, m, l_max):\n\u001b[1;32m    301\u001b[0m \u001b[38;5;250m    \u001b[39m\u001b[38;5;124;03m\"\"\"Gives the separation constant that is closest to A0.\u001b[39;00m\n\u001b[1;32m    302\u001b[0m \n\u001b[1;32m    303\u001b[0m \u001b[38;5;124;03m    Parameters\u001b[39;00m\n\u001b[0;32m   (...)\u001b[0m\n\u001b[1;32m    323\u001b[0m \u001b[38;5;124;03m      Separation constant that is the closest to A0.\u001b[39;00m\n\u001b[1;32m    324\u001b[0m \u001b[38;5;124;03m    \"\"\"\u001b[39;00m\n\u001b[0;32m--> 326\u001b[0m     As \u001b[38;5;241m=\u001b[39m \u001b[43msep_consts\u001b[49m\u001b[43m(\u001b[49m\u001b[43ms\u001b[49m\u001b[43m,\u001b[49m\u001b[43m \u001b[49m\u001b[43mc\u001b[49m\u001b[43m,\u001b[49m\u001b[43m \u001b[49m\u001b[43mm\u001b[49m\u001b[43m,\u001b[49m\u001b[43m \u001b[49m\u001b[43ml_max\u001b[49m\u001b[43m)\u001b[49m\n\u001b[1;32m    327\u001b[0m     i_closest \u001b[38;5;241m=\u001b[39m np\u001b[38;5;241m.\u001b[39margmin(np\u001b[38;5;241m.\u001b[39mabs(As\u001b[38;5;241m-\u001b[39mA0))\n\u001b[1;32m    328\u001b[0m     \u001b[38;5;28;01mreturn\u001b[39;00m As[i_closest]\n",
      "File \u001b[0;32m~/anaconda3/envs/ringdown/lib/python3.10/site-packages/qnm/angular.py:298\u001b[0m, in \u001b[0;36msep_consts\u001b[0;34m(s, c, m, l_max)\u001b[0m\n\u001b[1;32m    274\u001b[0m \u001b[38;5;28;01mdef\u001b[39;00m \u001b[38;5;21msep_consts\u001b[39m(s, c, m, l_max):\n\u001b[1;32m    275\u001b[0m \u001b[38;5;250m    \u001b[39m\u001b[38;5;124;03m\"\"\"Finds eigenvalues of decomposition matrix, i.e. the separation\u001b[39;00m\n\u001b[1;32m    276\u001b[0m \u001b[38;5;124;03m    constants, As.\u001b[39;00m\n\u001b[1;32m    277\u001b[0m \n\u001b[0;32m   (...)\u001b[0m\n\u001b[1;32m    295\u001b[0m \u001b[38;5;124;03m      Eigenvalues of spherical-spheroidal decomposition matrix\u001b[39;00m\n\u001b[1;32m    296\u001b[0m \u001b[38;5;124;03m    \"\"\"\u001b[39;00m\n\u001b[0;32m--> 298\u001b[0m     \u001b[38;5;28;01mreturn\u001b[39;00m \u001b[43mnp\u001b[49m\u001b[38;5;241;43m.\u001b[39;49m\u001b[43mlinalg\u001b[49m\u001b[38;5;241;43m.\u001b[39;49m\u001b[43meigvals\u001b[49m\u001b[43m(\u001b[49m\u001b[43mM_matrix\u001b[49m\u001b[43m(\u001b[49m\u001b[43ms\u001b[49m\u001b[43m,\u001b[49m\u001b[43m \u001b[49m\u001b[43mc\u001b[49m\u001b[43m,\u001b[49m\u001b[43m \u001b[49m\u001b[43mm\u001b[49m\u001b[43m,\u001b[49m\u001b[43m \u001b[49m\u001b[43ml_max\u001b[49m\u001b[43m)\u001b[49m\u001b[43m)\u001b[49m\n",
      "File \u001b[0;32m<__array_function__ internals>:180\u001b[0m, in \u001b[0;36meigvals\u001b[0;34m(*args, **kwargs)\u001b[0m\n",
      "File \u001b[0;32m~/anaconda3/envs/ringdown/lib/python3.10/site-packages/numpy/linalg/linalg.py:1063\u001b[0m, in \u001b[0;36meigvals\u001b[0;34m(a)\u001b[0m\n\u001b[1;32m   1060\u001b[0m extobj \u001b[38;5;241m=\u001b[39m get_linalg_error_extobj(\n\u001b[1;32m   1061\u001b[0m     _raise_linalgerror_eigenvalues_nonconvergence)\n\u001b[1;32m   1062\u001b[0m signature \u001b[38;5;241m=\u001b[39m \u001b[38;5;124m'\u001b[39m\u001b[38;5;124mD->D\u001b[39m\u001b[38;5;124m'\u001b[39m \u001b[38;5;28;01mif\u001b[39;00m isComplexType(t) \u001b[38;5;28;01melse\u001b[39;00m \u001b[38;5;124m'\u001b[39m\u001b[38;5;124md->D\u001b[39m\u001b[38;5;124m'\u001b[39m\n\u001b[0;32m-> 1063\u001b[0m w \u001b[38;5;241m=\u001b[39m \u001b[43m_umath_linalg\u001b[49m\u001b[38;5;241;43m.\u001b[39;49m\u001b[43meigvals\u001b[49m\u001b[43m(\u001b[49m\u001b[43ma\u001b[49m\u001b[43m,\u001b[49m\u001b[43m \u001b[49m\u001b[43msignature\u001b[49m\u001b[38;5;241;43m=\u001b[39;49m\u001b[43msignature\u001b[49m\u001b[43m,\u001b[49m\u001b[43m \u001b[49m\u001b[43mextobj\u001b[49m\u001b[38;5;241;43m=\u001b[39;49m\u001b[43mextobj\u001b[49m\u001b[43m)\u001b[49m\n\u001b[1;32m   1065\u001b[0m \u001b[38;5;28;01mif\u001b[39;00m \u001b[38;5;129;01mnot\u001b[39;00m isComplexType(t):\n\u001b[1;32m   1066\u001b[0m     \u001b[38;5;28;01mif\u001b[39;00m \u001b[38;5;28mall\u001b[39m(w\u001b[38;5;241m.\u001b[39mimag \u001b[38;5;241m==\u001b[39m \u001b[38;5;241m0\u001b[39m):\n",
      "\u001b[0;31mKeyboardInterrupt\u001b[0m: "
     ]
    }
   ],
   "source": [
    "# Finding the maximum FF with the analytic expression\n",
    "delta_mass = 0.5\n",
    "delta_chi = 0.005\n",
    "massspace = np.arange(40, 80, delta_mass) #[1,160]\n",
    "chispace = np.arange(0.0, 0.99, delta_chi)\n",
    "param_space = np.array([(i, j) for i in massspace for j in chispace])\n",
    "\n",
    "temp_FF = 0\n",
    "temp_results = ()\n",
    "for mass, chi in param_space:\n",
    "    FF = compute_FF(mass, chi)\n",
    "    if FF > temp_FF:\n",
    "        temp_FF = FF\n",
    "        temp_results = (FF, mass, chi)\n",
    "\n",
    "print(temp_results)"
   ]
  },
  {
   "cell_type": "code",
   "execution_count": 41,
   "id": "696efc57",
   "metadata": {
    "ExecuteTime": {
     "end_time": "2025-01-13T15:06:51.394870Z",
     "start_time": "2025-01-13T15:04:58.790761Z"
    }
   },
   "outputs": [
    {
     "name": "stdout",
     "output_type": "stream",
     "text": [
      "Injected mass=50, injected chi=0.1, FF=0.98279775039286 \n",
      "Recovered mass=75.5, recovered chi=0.0 \n",
      "\n",
      "Injected mass=50, injected chi=0.3, FF=0.9897305368859429 \n",
      "Recovered mass=70.0, recovered chi=0.0 \n",
      "\n",
      "Injected mass=50, injected chi=0.5, FF=0.9964224305918921 \n",
      "Recovered mass=64.0, recovered chi=0.0 \n",
      "\n",
      "Injected mass=50, injected chi=0.7, FF=0.9999947017088722 \n",
      "Recovered mass=57.5, recovered chi=0.065 \n",
      "\n"
     ]
    }
   ],
   "source": [
    "chi_arr = [0.1, 0.3, 0.5, 0.7]\n",
    "for i in chi_arr:\n",
    "    theoretical = [50, i]\n",
    "    temp_FF = 0\n",
    "    temp_results = ()\n",
    "    for mass, chi in param_space:\n",
    "        FF = compute_FF(mass, chi)\n",
    "        if FF > temp_FF:\n",
    "            temp_FF = FF\n",
    "            temp_results = (FF, mass, chi)\n",
    "    print(f'Injected mass={theoretical[0]}, injected chi={theoretical[1]}, FF={temp_results[0]} \\nRecovered mass={temp_results[1]}, recovered chi={temp_results[2]} \\n')"
   ]
  },
  {
   "cell_type": "code",
   "execution_count": null,
   "id": "88aab9cc",
   "metadata": {},
   "outputs": [],
   "source": []
  },
  {
   "cell_type": "code",
   "execution_count": 5,
   "id": "c0d91a5f",
   "metadata": {
    "ExecuteTime": {
     "end_time": "2025-01-13T14:32:05.683649Z",
     "start_time": "2025-01-13T14:32:05.617586Z"
    }
   },
   "outputs": [
    {
     "name": "stdout",
     "output_type": "stream",
     "text": [
      "Injected ML: mass = 50.80, chi=0.72\n",
      "Filtered ML: mass = 40.00, chi=0.98\n"
     ]
    }
   ],
   "source": [
    "# Maximum likelihood from the cluster\n",
    "idx0 = 143058\n",
    "idx1 = 195420\n",
    "delta_mass = 0.1\n",
    "delta_chi = 0.005\n",
    "massspace = np.arange(1, 100, delta_mass) #[1,160]\n",
    "chispace = np.arange(0.0, 0.99, delta_chi)\n",
    "param_space = np.array([(i, j) for i in massspace for j in chispace])\n",
    "mass_grid, chi_grid = np.meshgrid(massspace, chispace)\n",
    "print(\"Injected ML: mass = %.2f, chi=%.2f\" % (mass_grid.flatten()[idx0], chi_grid.flatten()[idx0]))\n",
    "print(\"Filtered ML: mass = %.2f, chi=%.2f\" % (mass_grid.flatten()[idx1], chi_grid.flatten()[idx1]))\n",
    "\n",
    "injected = [mass_grid.flatten()[idx0], chi_grid.flatten()[idx0]]\n",
    "filtered = [mass_grid.flatten()[idx1], chi_grid.flatten()[idx1]]"
   ]
  },
  {
   "cell_type": "code",
   "execution_count": 6,
   "id": "a1f06276",
   "metadata": {
    "ExecuteTime": {
     "end_time": "2025-01-13T14:32:06.290731Z",
     "start_time": "2025-01-13T14:32:06.269776Z"
    }
   },
   "outputs": [],
   "source": [
    "w_inj, _, _ = qnm.modes_cache(s=-2,l=int(mode_inj[0]),m=int(mode_inj[1]),n=int(mode_inj[2]))(a=theoretical[1])\n",
    "w_filt, _, _ = qnm.modes_cache(s=-2,l=int(mode_filt[0]),m=int(mode_filt[1]),n=int(mode_filt[2]))(filtered[1])\n",
    "w_inj /= theoretical[0]\n",
    "w_filt /= filtered[0]\n",
    "\n",
    "filt = (w_inj-w_filt)/(w_inj-np.conj(w_filt))*(w_inj+np.conj(w_filt))/(w_inj+w_filt)\n",
    "B = np.abs(filt)\n",
    "psi = -np.angle(filt) #The (-) sign is negative and I think because of different conventions\n",
    "f_inj = np.real(w_inj)/(2*np.pi)\n",
    "tau_inj = -1/np.imag(w_inj)\n",
    "wt = 2*np.pi*f_inj*tau_inj"
   ]
  },
  {
   "cell_type": "code",
   "execution_count": 7,
   "id": "27fef108",
   "metadata": {
    "ExecuteTime": {
     "end_time": "2025-01-13T14:32:06.825805Z",
     "start_time": "2025-01-13T14:32:06.821091Z"
    }
   },
   "outputs": [
    {
     "name": "stdout",
     "output_type": "stream",
     "text": [
      "0.11508918252865771\n",
      "0.49337724003244265\n"
     ]
    }
   ],
   "source": [
    "temp0 = B**2*(1+wt**2+np.cos(2*(phi+psi))-wt*np.sin(2*(phi+psi)))\n",
    "temp1 = 1+wt**2+np.cos(2*phi) - wt*np.sin(2*phi)\n",
    "analytical_FF = np.sqrt(1-temp0/temp1)\n",
    "print(analytical_FF)\n",
    "print(0.5*(1-analytical_FF**2))"
   ]
  },
  {
   "cell_type": "code",
   "execution_count": null,
   "id": "049c6827",
   "metadata": {},
   "outputs": [],
   "source": []
  },
  {
   "cell_type": "code",
   "execution_count": 8,
   "id": "3768c675",
   "metadata": {
    "ExecuteTime": {
     "end_time": "2025-01-13T14:32:08.040801Z",
     "start_time": "2025-01-13T14:32:08.028130Z"
    }
   },
   "outputs": [
    {
     "name": "stdout",
     "output_type": "stream",
     "text": [
      "0.35043161180959226\n",
      "0.4385988427222656\n"
     ]
    }
   ],
   "source": [
    "theoretical = [70, 0.7]\n",
    "filtered = [70, 0.7]\n",
    "\n",
    "w_inj, _, _ = qnm.modes_cache(s=-2,l=int(mode_inj[0]),m=int(mode_inj[1]),n=int(mode_inj[2]))(a=theoretical[1])\n",
    "w_filt, _, _ = qnm.modes_cache(s=-2,l=int(mode_filt[0]),m=int(mode_filt[1]),n=int(mode_filt[2]))(filtered[1])\n",
    "w_inj /= theoretical[0]\n",
    "w_filt /= filtered[0]\n",
    "\n",
    "filt = (w_inj-w_filt)/(w_inj-np.conj(w_filt))*(w_inj+np.conj(w_filt))/(w_inj+w_filt)\n",
    "B = np.abs(filt)\n",
    "psi = -np.angle(filt) #The (-) sign is negative and I think because of different conventions\n",
    "f_inj = np.real(w_inj)/(2*np.pi)\n",
    "tau_inj = -1/np.imag(w_inj)\n",
    "wt = 2*np.pi*f_inj*tau_inj\n",
    "\n",
    "temp0 = B**2*(1+wt**2+np.cos(2*(phi+psi))-wt*np.sin(2*(phi+psi)))\n",
    "temp1 = 1+wt**2+np.cos(2*phi) - wt*np.sin(2*phi)\n",
    "analytical_FF = np.sqrt(1-temp0/temp1)\n",
    "print(analytical_FF)\n",
    "print(0.5*(1-analytical_FF**2))"
   ]
  },
  {
   "cell_type": "code",
   "execution_count": null,
   "id": "8b5efd23",
   "metadata": {},
   "outputs": [],
   "source": []
  },
  {
   "cell_type": "code",
   "execution_count": 9,
   "id": "3443907e",
   "metadata": {
    "ExecuteTime": {
     "end_time": "2025-01-13T14:32:09.086917Z",
     "start_time": "2025-01-13T14:32:09.079867Z"
    }
   },
   "outputs": [],
   "source": []
  },
  {
   "cell_type": "code",
   "execution_count": 15,
   "id": "de5660fb",
   "metadata": {
    "ExecuteTime": {
     "end_time": "2025-01-13T14:33:49.153005Z",
     "start_time": "2025-01-13T14:33:49.147643Z"
    }
   },
   "outputs": [],
   "source": [
    "mode_inj = '220'\n",
    "mode_filt = '440'"
   ]
  },
  {
   "cell_type": "code",
   "execution_count": 16,
   "id": "0c924f6a",
   "metadata": {
    "ExecuteTime": {
     "end_time": "2025-01-13T14:33:49.436940Z",
     "start_time": "2025-01-13T14:33:49.430779Z"
    }
   },
   "outputs": [],
   "source": []
  },
  {
   "cell_type": "code",
   "execution_count": 17,
   "id": "6d060de4",
   "metadata": {
    "ExecuteTime": {
     "end_time": "2025-01-13T14:33:51.403636Z",
     "start_time": "2025-01-13T14:33:49.790738Z"
    }
   },
   "outputs": [
    {
     "name": "stdout",
     "output_type": "stream",
     "text": [
      "(0.9610358247910529, 0.03820507173409038, 98.0, 0.0)\n"
     ]
    }
   ],
   "source": []
  },
  {
   "cell_type": "code",
   "execution_count": null,
   "id": "327a9d3a",
   "metadata": {},
   "outputs": [],
   "source": []
  }
 ],
 "metadata": {
  "kernelspec": {
   "display_name": "Python 3 (ipykernel)",
   "language": "python",
   "name": "python3"
  },
  "language_info": {
   "codemirror_mode": {
    "name": "ipython",
    "version": 3
   },
   "file_extension": ".py",
   "mimetype": "text/x-python",
   "name": "python",
   "nbconvert_exporter": "python",
   "pygments_lexer": "ipython3",
   "version": "3.10.8"
  },
  "toc": {
   "base_numbering": 1,
   "nav_menu": {
    "height": "125.994px",
    "width": "160.17px"
   },
   "number_sections": false,
   "sideBar": true,
   "skip_h1_title": false,
   "title_cell": "Table of Contents",
   "title_sidebar": "Contents",
   "toc_cell": false,
   "toc_position": {
    "height": "calc(100% - 180px)",
    "left": "10px",
    "top": "150px",
    "width": "165px"
   },
   "toc_section_display": true,
   "toc_window_display": false
  }
 },
 "nbformat": 4,
 "nbformat_minor": 5
}
