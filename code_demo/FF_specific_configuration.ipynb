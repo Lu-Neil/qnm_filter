{
 "cells": [
  {
   "cell_type": "markdown",
   "id": "304dc7e7",
   "metadata": {},
   "source": [
    "# Computes the FF either analytically or filtering computationally and calculating SNR / SNR_res\n",
    "### Note that for high chi, increasing the srate may be necessary"
   ]
  },
  {
   "cell_type": "code",
   "execution_count": 1,
   "id": "56f9e8a7",
   "metadata": {
    "ExecuteTime": {
     "end_time": "2024-11-14T03:18:24.030044Z",
     "start_time": "2024-11-14T03:18:23.279604Z"
    }
   },
   "outputs": [],
   "source": [
    "%matplotlib inline\n",
    "%config InlineBackend.figure_format = 'retina'"
   ]
  },
  {
   "cell_type": "code",
   "execution_count": 2,
   "id": "5e42f812",
   "metadata": {
    "ExecuteTime": {
     "end_time": "2024-11-14T03:18:27.212870Z",
     "start_time": "2024-11-14T03:18:24.032884Z"
    }
   },
   "outputs": [],
   "source": [
    "import numpy as np\n",
    "import matplotlib.pyplot as pl\n",
    "import qnm_filter\n",
    "import qnm\n",
    "import astropy.constants as c\n",
    "T_MSUN = c.M_sun.value * c.G.value / c.c.value**3"
   ]
  },
  {
   "cell_type": "code",
   "execution_count": 3,
   "id": "1dea8242",
   "metadata": {
    "ExecuteTime": {
     "end_time": "2024-11-14T03:18:27.219133Z",
     "start_time": "2024-11-14T03:18:27.215393Z"
    }
   },
   "outputs": [],
   "source": [
    "mode_inj = '220'\n",
    "mode_filt = '440'\n",
    "phi = 0 #np.random.uniform(0, 2*np.pi)"
   ]
  },
  {
   "cell_type": "code",
   "execution_count": 4,
   "id": "c0d91a5f",
   "metadata": {
    "ExecuteTime": {
     "end_time": "2024-11-14T03:18:30.038245Z",
     "start_time": "2024-11-14T03:18:29.891662Z"
    }
   },
   "outputs": [
    {
     "name": "stdout",
     "output_type": "stream",
     "text": [
      "Injected ML: mass = 50.80, chi=0.72\n",
      "Filtered ML: mass = 40.00, chi=0.98\n"
     ]
    }
   ],
   "source": [
    "# Maximum likelihood from the cluster\n",
    "idx0 = 143058\n",
    "idx1 = 195420\n",
    "delta_mass = 0.1\n",
    "delta_chi = 0.005\n",
    "massspace = np.arange(1, 100, delta_mass) #[1,160]\n",
    "chispace = np.arange(0.0, 0.99, delta_chi)\n",
    "param_space = np.array([(i, j) for i in massspace for j in chispace])\n",
    "mass_grid, chi_grid = np.meshgrid(massspace, chispace)\n",
    "print(\"Injected ML: mass = %.2f, chi=%.2f\" % (mass_grid.flatten()[idx0], chi_grid.flatten()[idx0]))\n",
    "print(\"Filtered ML: mass = %.2f, chi=%.2f\" % (mass_grid.flatten()[idx1], chi_grid.flatten()[idx1]))\n",
    "\n",
    "theoretical = [50, 0.7]\n",
    "injected = [mass_grid.flatten()[idx0], chi_grid.flatten()[idx0]]\n",
    "filtered = [mass_grid.flatten()[idx1], chi_grid.flatten()[idx1]]"
   ]
  },
  {
   "cell_type": "code",
   "execution_count": 5,
   "id": "a1f06276",
   "metadata": {
    "ExecuteTime": {
     "end_time": "2024-11-14T03:18:35.765979Z",
     "start_time": "2024-11-14T03:18:35.735220Z"
    }
   },
   "outputs": [],
   "source": [
    "w_inj, _, _ = qnm.modes_cache(s=-2,l=int(mode_inj[0]),m=int(mode_inj[1]),n=int(mode_inj[2]))(a=theoretical[1])\n",
    "w_filt, _, _ = qnm.modes_cache(s=-2,l=int(mode_filt[0]),m=int(mode_filt[1]),n=int(mode_filt[2]))(filtered[1])\n",
    "w_inj /= theoretical[0]\n",
    "w_filt /= filtered[0]\n",
    "\n",
    "filt = (w_inj-w_filt)/(w_inj-np.conj(w_filt))*(w_inj+np.conj(w_filt))/(w_inj+w_filt)\n",
    "B = np.abs(filt)\n",
    "psi = -np.angle(filt) #The (-) sign is negative and I think because of different conventions\n",
    "f_inj = np.real(w_inj)/(2*np.pi)\n",
    "tau_inj = -1/np.imag(w_inj)\n",
    "wt = 2*np.pi*f_inj*tau_inj"
   ]
  },
  {
   "cell_type": "code",
   "execution_count": 6,
   "id": "27fef108",
   "metadata": {
    "ExecuteTime": {
     "end_time": "2024-11-14T03:18:45.882174Z",
     "start_time": "2024-11-14T03:18:45.877187Z"
    }
   },
   "outputs": [
    {
     "name": "stdout",
     "output_type": "stream",
     "text": [
      "0.11508918252865771\n",
      "0.49337724003244265\n"
     ]
    }
   ],
   "source": [
    "temp0 = B**2*(1+wt**2+np.cos(2*(phi+psi))-wt*np.sin(2*(phi+psi)))\n",
    "temp1 = 1+wt**2+np.cos(2*phi) - wt*np.sin(2*phi)\n",
    "analytical_FF = np.sqrt(1-temp0/temp1)\n",
    "print(analytical_FF)\n",
    "print(0.5*(1-analytical_FF**2))"
   ]
  },
  {
   "cell_type": "code",
   "execution_count": null,
   "id": "049c6827",
   "metadata": {},
   "outputs": [],
   "source": []
  },
  {
   "cell_type": "code",
   "execution_count": 10,
   "id": "3768c675",
   "metadata": {
    "ExecuteTime": {
     "end_time": "2024-11-14T07:08:13.658536Z",
     "start_time": "2024-11-14T07:08:13.644527Z"
    }
   },
   "outputs": [
    {
     "name": "stdout",
     "output_type": "stream",
     "text": [
      "0.35043161180959226\n",
      "0.4385988427222656\n"
     ]
    }
   ],
   "source": [
    "theoretical = [70, 0.7]\n",
    "filtered = [70, 0.7]\n",
    "\n",
    "w_inj, _, _ = qnm.modes_cache(s=-2,l=int(mode_inj[0]),m=int(mode_inj[1]),n=int(mode_inj[2]))(a=theoretical[1])\n",
    "w_filt, _, _ = qnm.modes_cache(s=-2,l=int(mode_filt[0]),m=int(mode_filt[1]),n=int(mode_filt[2]))(filtered[1])\n",
    "w_inj /= theoretical[0]\n",
    "w_filt /= filtered[0]\n",
    "\n",
    "filt = (w_inj-w_filt)/(w_inj-np.conj(w_filt))*(w_inj+np.conj(w_filt))/(w_inj+w_filt)\n",
    "B = np.abs(filt)\n",
    "psi = -np.angle(filt) #The (-) sign is negative and I think because of different conventions\n",
    "f_inj = np.real(w_inj)/(2*np.pi)\n",
    "tau_inj = -1/np.imag(w_inj)\n",
    "wt = 2*np.pi*f_inj*tau_inj\n",
    "\n",
    "temp0 = B**2*(1+wt**2+np.cos(2*(phi+psi))-wt*np.sin(2*(phi+psi)))\n",
    "temp1 = 1+wt**2+np.cos(2*phi) - wt*np.sin(2*phi)\n",
    "analytical_FF = np.sqrt(1-temp0/temp1)\n",
    "print(analytical_FF)\n",
    "print(0.5*(1-analytical_FF**2))"
   ]
  },
  {
   "cell_type": "code",
   "execution_count": null,
   "id": "8b5efd23",
   "metadata": {},
   "outputs": [],
   "source": []
  },
  {
   "cell_type": "code",
   "execution_count": 10,
   "id": "3443907e",
   "metadata": {
    "ExecuteTime": {
     "end_time": "2024-07-29T05:02:11.152687Z",
     "start_time": "2024-07-29T05:02:11.147969Z"
    }
   },
   "outputs": [],
   "source": [
    "def compute_FF(mass, chi):\n",
    "    w_inj, _, _ = qnm.modes_cache(s=-2,l=int(mode_inj[0]),m=int(mode_inj[1]),n=int(mode_inj[2]))(a=theoretical[1])\n",
    "    w_filt, _, _ = qnm.modes_cache(s=-2,l=int(mode_filt[0]),m=int(mode_filt[1]),n=int(mode_filt[2]))(chi)\n",
    "    w_inj /= theoretical[0]\n",
    "    w_filt /= mass\n",
    "    \n",
    "    filt = (w_inj-w_filt)/(w_inj-np.conj(w_filt))*(w_inj+np.conj(w_filt))/(w_inj+w_filt)\n",
    "    B = np.abs(filt)\n",
    "    psi = -np.angle(filt) #The (-) sign is negative and I think because of different conventions\n",
    "    f_inj = np.real(w_inj)/(2*np.pi)\n",
    "    tau_inj = -1/np.imag(w_inj)\n",
    "    wt = 2*np.pi*f_inj*tau_inj\n",
    "\n",
    "    temp0 = B**2*(1+wt**2+np.cos(2*(phi+psi))-wt*np.sin(2*(phi+psi)))\n",
    "    temp1 = 1+wt**2+np.cos(2*phi) - wt*np.sin(2*phi)\n",
    "    analytical_FF = np.sqrt(1-temp0/temp1)\n",
    "\n",
    "    return(analytical_FF, 0.5*(1-analytical_FF**2))"
   ]
  },
  {
   "cell_type": "code",
   "execution_count": 19,
   "id": "de5660fb",
   "metadata": {
    "ExecuteTime": {
     "end_time": "2024-07-29T05:41:11.565653Z",
     "start_time": "2024-07-29T05:41:11.562685Z"
    }
   },
   "outputs": [],
   "source": [
    "mode_inj = '220'\n",
    "mode_filt = '200'"
   ]
  },
  {
   "cell_type": "code",
   "execution_count": 22,
   "id": "0c924f6a",
   "metadata": {
    "ExecuteTime": {
     "end_time": "2024-07-29T11:14:48.676977Z",
     "start_time": "2024-07-29T11:14:48.579043Z"
    }
   },
   "outputs": [],
   "source": [
    "delta_mass = 0.1\n",
    "delta_chi = 0.005\n",
    "massspace = np.arange(1, 160, delta_mass) #[1,160]\n",
    "chispace = np.arange(0.0, 0.99, delta_chi)\n",
    "param_space = np.array([(i, j) for i in massspace for j in chispace])"
   ]
  },
  {
   "cell_type": "code",
   "execution_count": 23,
   "id": "6d060de4",
   "metadata": {
    "ExecuteTime": {
     "end_time": "2024-07-29T11:24:07.944149Z",
     "start_time": "2024-07-29T11:14:48.690895Z"
    }
   },
   "outputs": [
    {
     "name": "stdout",
     "output_type": "stream",
     "text": [
      "(0.9980237164387613, 0.0019743307128815, 40.000000000000036, 0.985)\n"
     ]
    }
   ],
   "source": [
    "# Finding the minimum FF with the analytic expression\n",
    "\n",
    "temp_FF = 0\n",
    "temp_results = ()\n",
    "for mass, chi in param_space:\n",
    "    FF, quadratic = compute_FF(mass, chi)\n",
    "    if FF > temp_FF:\n",
    "        temp_FF = FF\n",
    "        temp_results = (FF, quadratic, mass, chi)\n",
    "\n",
    "print(temp_results)"
   ]
  },
  {
   "cell_type": "code",
   "execution_count": null,
   "id": "327a9d3a",
   "metadata": {},
   "outputs": [],
   "source": []
  }
 ],
 "metadata": {
  "kernelspec": {
   "display_name": "Python 3 (ipykernel)",
   "language": "python",
   "name": "python3"
  },
  "language_info": {
   "codemirror_mode": {
    "name": "ipython",
    "version": 3
   },
   "file_extension": ".py",
   "mimetype": "text/x-python",
   "name": "python",
   "nbconvert_exporter": "python",
   "pygments_lexer": "ipython3",
   "version": "3.10.8"
  },
  "toc": {
   "base_numbering": 1,
   "nav_menu": {
    "height": "125.994px",
    "width": "160.17px"
   },
   "number_sections": false,
   "sideBar": true,
   "skip_h1_title": false,
   "title_cell": "Table of Contents",
   "title_sidebar": "Contents",
   "toc_cell": false,
   "toc_position": {
    "height": "calc(100% - 180px)",
    "left": "10px",
    "top": "150px",
    "width": "165px"
   },
   "toc_section_display": true,
   "toc_window_display": false
  }
 },
 "nbformat": 4,
 "nbformat_minor": 5
}
