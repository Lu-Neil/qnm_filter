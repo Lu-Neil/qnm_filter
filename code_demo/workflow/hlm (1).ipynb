{
 "cells": [
  {
   "cell_type": "markdown",
   "id": "639588af",
   "metadata": {},
   "source": [
    "# Needs to run with postmerger enviro"
   ]
  },
  {
   "cell_type": "code",
   "execution_count": 1,
   "id": "73e3c2fd",
   "metadata": {
    "ExecuteTime": {
     "end_time": "2024-11-28T03:52:21.416951Z",
     "start_time": "2024-11-28T03:52:20.231943Z"
    }
   },
   "outputs": [],
   "source": [
    "import sys\n",
    "import numpy as np\n",
    "import matplotlib.pyplot as pl\n",
    "from lal._lal import SpinWeightedSphericalHarmonic as sYlm\n",
    "import postmerger as pm\n",
    "import random\n",
    "import qnm\n",
    "import qnm_filter\n",
    "sys.path.append('..')"
   ]
  },
  {
   "cell_type": "code",
   "execution_count": 177,
   "id": "a185475c",
   "metadata": {
    "ExecuteTime": {
     "end_time": "2024-11-28T05:52:50.040076Z",
     "start_time": "2024-11-28T05:52:50.021640Z"
    }
   },
   "outputs": [],
   "source": [
    "fitname = '3dq8_20M'\n",
    "fit = pm.load_fit(fitname)"
   ]
  },
  {
   "cell_type": "code",
   "execution_count": 178,
   "id": "d9195a33",
   "metadata": {
    "ExecuteTime": {
     "end_time": "2024-11-28T05:52:50.216945Z",
     "start_time": "2024-11-28T05:52:50.208941Z"
    }
   },
   "outputs": [],
   "source": [
    "def hlm_total(mass_ratio,chi1z,chi2z,time,l,m,n,iota,phi):\n",
    "    amp_220 = fit.predict_amp(mass_ratio,chi1z,chi2z,(2,2),(2,2,0),return_std=False,start_time=time)\n",
    "    phase_220 = fit.predict_phase(mass_ratio,chi1z,chi2z,(2,2),(2,2,0),return_std=False,start_time=time)\n",
    "\n",
    "    #print('absolute amplitude 220:\\t  %.3f' % amp_220)\n",
    "    #print('absolute phase 220:\\t  %.3f' % phi_220)\n",
    "    \n",
    "    rel_amp = fit.predict_amp(mass_ratio,chi1z,chi2z,(l,m),(l,m,n),return_std=False,start_time=time)\n",
    "    rel_phase = fit.predict_phase(mass_ratio,chi1z,chi2z,(l,m),(l,m,n),return_std=False,start_time=time)\n",
    "    \n",
    "    if l==2 and m==2 and n==0:\n",
    "        amp = amp_220\n",
    "        phase = phase_220\n",
    "    \n",
    "    else:  \n",
    "        amp = rel_amp * amp_220\n",
    "        phase = rel_phase + m/2*phase_220\n",
    "\n",
    "    hlm = amp * np.exp(-1j*phase)\n",
    "    hl_m = (-1)**l * np.conjugate(hlm)\n",
    "    hlm_total = hlm*sYlm(iota,phi,-2,l,m) + hl_m*sYlm(iota,phi,-2,l,-1*m)\n",
    "    return(np.abs(hlm_total), phase)\n",
    "\n",
    "def power_calc(omega, tau, amp, phi):\n",
    "    temp0 = amp**2*tau*(1+tau**2+omega**2+np.cos(2*phi)-tau*omega*np.sin(2*phi))\n",
    "    temp1 = 4+4*tau**2*omega**2\n",
    "    return temp0/temp1"
   ]
  },
  {
   "cell_type": "code",
   "execution_count": 179,
   "id": "8ae775dd",
   "metadata": {
    "ExecuteTime": {
     "end_time": "2024-11-28T05:52:50.408154Z",
     "start_time": "2024-11-28T05:52:50.404534Z"
    }
   },
   "outputs": [
    {
     "name": "stdout",
     "output_type": "stream",
     "text": [
      "final mass: 64.5422442677085\n",
      "final spin: 0.6535863161242206\n",
      "final orientation: 1.0\n"
     ]
    }
   ],
   "source": [
    "mass1 = random.uniform(30, 70)\n",
    "mass2 = random.uniform(20, mass1)\n",
    "mass_ratio = mass1/mass2 # defined to be >=1\n",
    "chi1z = random.uniform(0, 0.8)\n",
    "chi2z = random.uniform(0, 0.8)\n",
    "start_time = 0\n",
    "\n",
    "# no need for final mass/spin, this is just for own reference\n",
    "massf = pm.final_mass(mass1,mass2,chi1z,chi2z,aligned_spins=True)\n",
    "chifz, thetaf = pm.final_spin(mass1,mass2,chi1z,chi2z,aligned_spins=True,return_angle=True)\n",
    "\n",
    "print('final mass:',massf)\n",
    "print('final spin:',chifz)\n",
    "print('final orientation:',np.cos(thetaf))\n",
    "\n",
    "iota = random.uniform(0, 2*np.pi)\n",
    "phi = random.uniform(0, 2*np.pi)"
   ]
  },
  {
   "cell_type": "code",
   "execution_count": 180,
   "id": "cc069023",
   "metadata": {
    "ExecuteTime": {
     "end_time": "2024-11-28T05:52:52.396523Z",
     "start_time": "2024-11-28T05:52:52.005136Z"
    }
   },
   "outputs": [],
   "source": [
    "amp_dict = {}\n",
    "phase_dict = {}\n",
    "for key in fit.modes.keys():\n",
    "    for mode in fit.modes[key]:\n",
    "        if len(mode) == 3:\n",
    "            l, m, n = mode\n",
    "            amp, phase = hlm_total(mass_ratio,chi1z,chi2z,start_time,l,m,n,iota,phi)\n",
    "            amp_dict[mode] = amp\n",
    "            phase_dict[mode] = phase\n",
    "fundamental_modes = {key: value for key, value in amp_dict.items() if key[2] == 0}\n",
    "sorted_fundamentals = sorted(fundamental_modes.items(), key=lambda x: x[1], reverse=True)\n",
    "sorted_modes = sorted(amp_dict.items(), key=lambda x: x[1], reverse=True)"
   ]
  },
  {
   "cell_type": "code",
   "execution_count": 181,
   "id": "59a57098",
   "metadata": {
    "ExecuteTime": {
     "end_time": "2024-11-28T05:52:52.951065Z",
     "start_time": "2024-11-28T05:52:52.947689Z"
    }
   },
   "outputs": [],
   "source": [
    "sampling_frequency = 4096\n",
    "duration = 4  # in second\n",
    "time_arr = np.arange(-duration / 2, duration / 2, 1 / sampling_frequency)\n",
    "mass_unit = qnm_filter.Filter.mass_unit(massf)\n",
    "time_offset = 3\n",
    "\n",
    "input = dict(model_list=[(2,2,0,'p')],\n",
    "             t_init=time_offset*mass_unit, #Not geocentric but L1 so no sky location added\n",
    "             segment_length=0.2,\n",
    "             srate=4096,\n",
    "             ra=None, dec=None, \n",
    "             flow=20,\n",
    "             trim = 0.05)"
   ]
  },
  {
   "cell_type": "code",
   "execution_count": 182,
   "id": "ffd50aa4",
   "metadata": {
    "ExecuteTime": {
     "end_time": "2024-11-28T05:52:53.821604Z",
     "start_time": "2024-11-28T05:52:53.804238Z"
    }
   },
   "outputs": [
    {
     "name": "stdout",
     "output_type": "stream",
     "text": [
      "Mode=(2,2,0),amp=0.267,phase=1.9\n",
      "Power=0.82\n",
      "Mode=(3,3,0),amp=0.084,phase=2.46\n",
      "Power=0.03\n",
      "Mode=(2,1,0),amp=0.0652,phase=-2.17\n",
      "Power=0.06\n"
     ]
    }
   ],
   "source": [
    "signal_dict = {}\n",
    "for i in sorted_fundamentals[:3]:\n",
    "    (l, m, n), amp = i\n",
    "    omega = qnm.modes_cache(s=-2,l=l,m=m,n=n)(a=chifz)[0]\n",
    "    phi = phase_dict[(l, m, n)]\n",
    "    signal = np.real(amp * np.exp(-1j * (omega * np.abs(time_arr / mass_unit) + phi)))\n",
    "    signal_dict[(l,m,n)] = signal\n",
    "    print(\"Mode=(%d,%d,%d),amp=%.3g,phase=%.3g\"%(l,m,n,amp,phi))\n",
    "    f = np.real(omega)\n",
    "    tau = -1/np.imag(omega)\n",
    "    power = power_calc(f, tau, amp, phi)\n",
    "    print(\"Power=%.2f\" % power)"
   ]
  },
  {
   "cell_type": "code",
   "execution_count": 183,
   "id": "af81516d",
   "metadata": {
    "ExecuteTime": {
     "end_time": "2024-11-28T05:52:57.657802Z",
     "start_time": "2024-11-28T05:52:57.636836Z"
    }
   },
   "outputs": [],
   "source": [
    "mmax = 10e-21 \n",
    "NR_signal = np.zeros(len(signal))\n",
    "for key, item in signal_dict.items():\n",
    "    NR_signal += mmax*item\n",
    "    \n",
    "ifo_H1 = qnm_filter.set_bilby_predefined_ifo(\n",
    "\"H1\", sampling_frequency, duration, start_time=-duration / 2\n",
    ")\n",
    "signalH_noise = qnm_filter.bilby_get_strain(ifo_H1, 0.0)\n",
    "ifo_L1 = qnm_filter.set_bilby_predefined_ifo(\n",
    "\"L1\", sampling_frequency, duration, start_time=-duration / 2\n",
    ")\n",
    "signalL_noise = qnm_filter.bilby_get_strain(ifo_L1, 0.0)"
   ]
  },
  {
   "cell_type": "code",
   "execution_count": 185,
   "id": "12c9a2fc",
   "metadata": {
    "ExecuteTime": {
     "end_time": "2024-11-28T05:53:34.763213Z",
     "start_time": "2024-11-28T05:53:34.702826Z"
    }
   },
   "outputs": [
    {
     "name": "stdout",
     "output_type": "stream",
     "text": [
      "31.067484588155267\n",
      "31.848976219395595\n",
      "10.018268875710103\n",
      "7.519880375837055\n"
     ]
    }
   ],
   "source": [
    "fit = qnm_filter.Network(**input)\n",
    "fit.original_data = {}\n",
    "fit.original_data['H1'] = qnm_filter.RealData(NR_signal, index=time_arr)\n",
    "fit.original_data['L1'] = qnm_filter.RealData(NR_signal, index=time_arr)\n",
    "fit.detector_alignment()\n",
    "fit.condition_data('original_data', **input)\n",
    "\n",
    "fit.pure_noise = {}\n",
    "fit.pure_noise[\"H1\"] = qnm_filter.RealData(signalH_noise, index=time_arr)\n",
    "fit.pure_noise[\"L1\"] = qnm_filter.RealData(signalL_noise, index=time_arr)\n",
    "fit.condition_data('pure_noise', **input)\n",
    "fit.compute_acfs('pure_noise')\n",
    "fit.cholesky_decomposition()\n",
    "fit.first_index()\n",
    "\n",
    "fit.pure_nr = {}\n",
    "fit.pure_nr['H1'] = qnm_filter.RealData(NR_signal, index=time_arr)\n",
    "fit.condition_data('pure_nr', **input)\n",
    "SNR = fit.compute_SNR(None, fit.truncate_data(fit.pure_nr)['H1'], 'H1', True)\n",
    "print(SNR)\n",
    "\n",
    "fit.pure_nr = {}\n",
    "fit.pure_nr['H1'] = qnm_filter.RealData(mmax*signal_dict[(2,2,0)], index=time_arr)\n",
    "fit.condition_data('pure_nr', **input)\n",
    "SNR = fit.compute_SNR(None, fit.truncate_data(fit.pure_nr)['H1'], 'H1', True)\n",
    "print(SNR)\n",
    "\n",
    "fit.pure_nr = {}\n",
    "fit.pure_nr['H1'] = qnm_filter.RealData(mmax*signal_dict[(3,3,0)], index=time_arr)\n",
    "fit.condition_data('pure_nr', **input)\n",
    "SNR = fit.compute_SNR(None, fit.truncate_data(fit.pure_nr)['H1'], 'H1', True)\n",
    "print(SNR)\n",
    "\n",
    "fit.pure_nr = {}\n",
    "fit.pure_nr['H1'] = qnm_filter.RealData(mmax*signal_dict[(2,1,0)], index=time_arr)\n",
    "fit.condition_data('pure_nr', **input)\n",
    "SNR = fit.compute_SNR(None, fit.truncate_data(fit.pure_nr)['H1'], 'H1', True)\n",
    "print(SNR)"
   ]
  },
  {
   "cell_type": "code",
   "execution_count": 163,
   "id": "c7f2ab3f",
   "metadata": {
    "ExecuteTime": {
     "end_time": "2024-11-28T05:37:00.435003Z",
     "start_time": "2024-11-28T05:37:00.429001Z"
    }
   },
   "outputs": [],
   "source": [
    "def analysis():\n",
    "    fit = qnm_filter.Network(**input)\n",
    "    fit.original_data = {}\n",
    "    fit.original_data['H1'] = qnm_filter.RealData(NR_signal, index=time_arr)\n",
    "    fit.original_data['L1'] = qnm_filter.RealData(NR_signal, index=time_arr)\n",
    "    fit.detector_alignment()\n",
    "    fit.condition_data('original_data', **input)\n",
    "\n",
    "    fit.pure_noise = {}\n",
    "    fit.pure_noise[\"H1\"] = qnm_filter.RealData(signalH_noise, index=time_arr)\n",
    "    fit.pure_noise[\"L1\"] = qnm_filter.RealData(signalL_noise, index=time_arr)\n",
    "    fit.condition_data('pure_noise', **input)\n",
    "    fit.compute_acfs('pure_noise')\n",
    "    fit.cholesky_decomposition()\n",
    "    fit.first_index()\n",
    "\n",
    "    fit.pure_nr = {}\n",
    "    fit.pure_nr['H1'] = qnm_filter.RealData(NR_signal, index=time_arr)\n",
    "    fit.pure_nr['L1'] = qnm_filter.RealData(NR_signal, index=time_arr)\n",
    "    fit.condition_data('pure_nr')\n",
    "    SNR = fit.compute_SNR(fit.truncate_data(fit.original_data)['H1'], fit.truncate_data(fit.pure_nr)['H1'], 'H1', False)\n",
    "\n",
    "    likelihood_data, evidence = qnm_filter.parallel_compute(\n",
    "        fit, massspace, chispace, num_cpu=8, **input)\n",
    "    credible_region = qnm_filter.find_credible_region(likelihood_data)"
   ]
  },
  {
   "cell_type": "code",
   "execution_count": 6,
   "id": "f4447ad2",
   "metadata": {
    "ExecuteTime": {
     "end_time": "2024-11-28T03:52:39.805117Z",
     "start_time": "2024-11-28T03:52:39.414086Z"
    }
   },
   "outputs": [
    {
     "data": {
      "text/plain": [
       "[((2, 2, 1), array([1.91987337])),\n",
       " ((2, 1, 1), array([0.13055975])),\n",
       " ((3, 3, 1), array([0.10185147])),\n",
       " ((4, 4, 1), array([0.09422218])),\n",
       " ((2, 2, 0), array([0.05062785])),\n",
       " ((4, 3, 1), array([0.04087902])),\n",
       " ((4, 4, 0), array([0.02306018])),\n",
       " ((3, 2, 1), array([0.02009901])),\n",
       " ((2, 1, 0), array([0.01461067])),\n",
       " ((3, 2, 0), array([0.00829135])),\n",
       " ((5, 5, 1), array([0.00581987])),\n",
       " ((3, 3, 0), array([0.00273008])),\n",
       " ((4, 3, 0), array([0.0013552])),\n",
       " ((5, 5, 0), array([0.00051512]))]"
      ]
     },
     "execution_count": 6,
     "metadata": {},
     "output_type": "execute_result"
    }
   ],
   "source": [
    "def signal_creator():\n",
    "    global signal, signal220, signal330, signal440, time_arr, signalH_noise, signalL_noise\n",
    "    injected = (random.uniform(40, 80), 0.7)\n",
    "    mass = qnm_filter.Filter.mass_unit(injected[0])\n",
    "    omega220 = qnm.modes_cache(s=-2,l=2,m=2,n=0)(a=injected[1])[0]\n",
    "    omega330 = qnm.modes_cache(s=-2,l=3,m=3,n=0)(a=injected[1])[0]\n",
    "    omega440 = qnm.modes_cache(s=-2,l=4,m=4,n=0)(a=injected[1])[0]\n",
    "\n",
    "    mmax = 0.8 * 1e-21 \n",
    "    phase220 = random.uniform(0, 2*np.pi)\n",
    "    A220x = mmax*np.cos(phase220)\n",
    "    A220y = mmax*np.sin(phase220)\n",
    "#     phase330 = 0\n",
    "#     A330x = mmax*np.cos(phase330)\n",
    "#     A330y = mmax*np.sin(phase330)\n",
    "#     phase440 = 0\n",
    "#     A440x = mmax*np.cos(phase440)\n",
    "#     A440y = mmax*np.sin(phase440)\n",
    "\n",
    "    amp220 = 1.2\n",
    "#     amp330 = 1.2\n",
    "#     amp440 = 0.7\n",
    "\n",
    "    sampling_frequency = 4096 * 1  # in Hz\n",
    "    duration = 2  # in second\n",
    "    time_arr = np.arange(-duration / 2, duration / 2, 1 / sampling_frequency)\n",
    "    signal220 = np.real(amp220 * (A220x + 1j * A220y) * np.exp(-1j * omega220 * np.abs(time_arr / mass)))\n",
    "#     signal330 = np.real(amp330 * (A330x + 1j * A330y) * np.exp(-1j * omega330 * np.abs(time_arr / mass)))\n",
    "#     signal440 = np.real(amp440 * (A440x + 1j * A440y) * np.exp(-1j * omega440 * np.abs(time_arr / mass)))\n",
    "\n",
    "    #CN section\n",
    "    ifo_H1 = qnm_filter.set_bilby_predefined_ifo(\n",
    "    \"H1\", sampling_frequency, duration, start_time=-duration / 2\n",
    "    )\n",
    "    signalH_noise = qnm_filter.bilby_get_strain(ifo_H1, 0.0)\n",
    "    ifo_L1 = qnm_filter.set_bilby_predefined_ifo(\n",
    "    \"L1\", sampling_frequency, duration, start_time=-duration / 2\n",
    "    )\n",
    "    signalL_noise = qnm_filter.bilby_get_strain(ifo_L1, 0.0)"
   ]
  },
  {
   "cell_type": "code",
   "execution_count": 7,
   "id": "212b9adf",
   "metadata": {
    "ExecuteTime": {
     "end_time": "2024-11-28T03:53:54.033458Z",
     "start_time": "2024-11-28T03:53:54.027809Z"
    }
   },
   "outputs": [
    {
     "data": {
      "text/plain": [
       "40.0"
      ]
     },
     "execution_count": 7,
     "metadata": {},
     "output_type": "execute_result"
    }
   ],
   "source": [
    "2/0.05"
   ]
  },
  {
   "cell_type": "code",
   "execution_count": 19,
   "id": "8d8a3307",
   "metadata": {
    "ExecuteTime": {
     "end_time": "2024-11-27T13:03:05.686806Z",
     "start_time": "2024-11-27T13:03:05.679158Z"
    }
   },
   "outputs": [],
   "source": [
    "omega220 = qnm.modes_cache(s=-2,l=2,m=2,n=0)(a=chifz)[0]\n",
    "f220 = np.real(omega220)\n",
    "tau220 = -1/np.imag(omega220)"
   ]
  },
  {
   "cell_type": "code",
   "execution_count": 39,
   "id": "5d55828c",
   "metadata": {
    "ExecuteTime": {
     "end_time": "2024-11-27T13:14:52.026002Z",
     "start_time": "2024-11-27T13:14:51.994801Z"
    }
   },
   "outputs": [
    {
     "data": {
      "text/plain": [
       "0.01796321453499604"
      ]
     },
     "execution_count": 39,
     "metadata": {},
     "output_type": "execute_result"
    }
   ],
   "source": [
    "props220 = hlm_total(mass_ratio,chi1z,chi2z,start_time,2,2,0,iota,phi)\n",
    "power_calc(f220, tau220, props220[0][0], props220[1][0])"
   ]
  },
  {
   "cell_type": "code",
   "execution_count": 46,
   "id": "8b5bea5b",
   "metadata": {
    "ExecuteTime": {
     "end_time": "2024-10-30T05:43:11.957021Z",
     "start_time": "2024-10-30T05:43:08.832589Z"
    }
   },
   "outputs": [
    {
     "data": {
      "text/plain": [
       "[<matplotlib.lines.Line2D at 0x7fa12c7d9d80>]"
      ]
     },
     "execution_count": 46,
     "metadata": {},
     "output_type": "execute_result"
    },
    {
     "data": {
      "image/png": "[encoded data removed]",
      "text/plain": [
       "<Figure size 640x480 with 1 Axes>"
      ]
     },
     "metadata": {},
     "output_type": "display_data"
    }
   ],
   "source": [
    "start_time = 0\n",
    "ratio = []\n",
    "iota = np.pi/2\n",
    "phi_space = np.linspace(0, np.pi, 30)\n",
    "for i in iota_space:\n",
    "    temp0 = hlm_total(mass_ratio,chi1z,chi2z,start_time,2,2,0,iota,i)\n",
    "    temp1 = hlm_total(mass_ratio,chi1z,chi2z,start_time,3,3,0,iota,i)\n",
    "    actual_amp0 = temp0[0]*np.cos(temp0[1])\n",
    "    actual_amp1 = temp1[0]*np.cos(temp1[1])\n",
    "    ratio.append(abs(actual_amp1/actual_amp0))\n",
    "    \n",
    "pl.plot(phi_space, ratio)"
   ]
  },
  {
   "cell_type": "code",
   "execution_count": 14,
   "id": "f675ffcd",
   "metadata": {
    "ExecuteTime": {
     "end_time": "2024-11-22T05:31:04.833279Z",
     "start_time": "2024-11-22T05:31:04.440334Z"
    }
   },
   "outputs": [
    {
     "data": {
      "text/plain": [
       "[((3, 3, 1), array([1.07329458])),\n",
       " ((4, 4, 1), array([0.29260432])),\n",
       " ((2, 2, 0), array([0.25504311])),\n",
       " ((5, 5, 1), array([0.16120442])),\n",
       " ((3, 2, 1), array([0.15473598])),\n",
       " ((3, 3, 0), array([0.10258218])),\n",
       " ((2, 1, 1), array([0.04221217])),\n",
       " ((2, 2, 1), array([0.03943947])),\n",
       " ((4, 3, 1), array([0.02129792])),\n",
       " ((2, 1, 0), array([0.01658772])),\n",
       " ((4, 4, 0), array([0.01444435])),\n",
       " ((3, 2, 0), array([0.00272711])),\n",
       " ((5, 5, 0), array([0.00198039])),\n",
       " ((4, 3, 0), array([0.00025462]))]"
      ]
     },
     "execution_count": 14,
     "metadata": {},
     "output_type": "execute_result"
    }
   ],
   "source": [
    "mass1 = 167.4\n",
    "mass2 = 78.36\n",
    "mass_ratio = mass1/mass2 # defined to be >=1\n",
    "chi1z = 0.723\n",
    "chi2z = 0.553\n",
    "start_time = 0\n",
    "amp_dict = {}\n",
    "for key in fit.modes.keys():\n",
    "    for mode in fit.modes[key]:\n",
    "        if len(mode) == 3:\n",
    "            l, m, n = mode\n",
    "            amp, phase = hlm_total(mass_ratio,chi1z,chi2z,start_time,l,m,n,iota,phi)\n",
    "            amp_dict[mode] = amp\n",
    "sorted(amp_dict.items(), key=lambda x: x[1], reverse=True)"
   ]
  },
  {
   "cell_type": "code",
   "execution_count": null,
   "id": "29a157ab",
   "metadata": {},
   "outputs": [],
   "source": []
  }
 ],
 "metadata": {
  "kernelspec": {
   "display_name": "Python 3 (ipykernel)",
   "language": "python",
   "name": "python3"
  },
  "language_info": {
   "codemirror_mode": {
    "name": "ipython",
    "version": 3
   },
   "file_extension": ".py",
   "mimetype": "text/x-python",
   "name": "python",
   "nbconvert_exporter": "python",
   "pygments_lexer": "ipython3",
   "version": "3.10.8"
  },
  "toc": {
   "base_numbering": 1,
   "nav_menu": {},
   "number_sections": true,
   "sideBar": true,
   "skip_h1_title": true,
   "title_cell": "Table of Contents",
   "title_sidebar": "Contents",
   "toc_cell": false,
   "toc_position": {},
   "toc_section_display": true,
   "toc_window_display": false
  }
 },
 "nbformat": 4,
 "nbformat_minor": 5
}
