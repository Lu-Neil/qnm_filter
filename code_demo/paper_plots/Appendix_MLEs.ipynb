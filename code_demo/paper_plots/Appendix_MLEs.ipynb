{
 "cells": [
  {
   "cell_type": "code",
   "execution_count": 4,
   "id": "ffa799ec",
   "metadata": {
    "ExecuteTime": {
     "end_time": "2025-04-29T00:57:37.257663Z",
     "start_time": "2025-04-29T00:57:36.040947Z"
    }
   },
   "outputs": [],
   "source": [
    "import numpy as np\n",
    "import matplotlib.pyplot as pl\n",
    "import qnm_filter\n",
    "import qnm\n",
    "import matplotlib\n",
    "import astropy.constants as c\n",
    "T_MSUN = c.M_sun.value * c.G.value / c.c.value**3\n",
    "mplparams = {\n",
    "    'text.usetex': True,\n",
    "    'axes.linewidth': 1,\n",
    "    'lines.linewidth' : 1.5,\n",
    "    'axes.grid': False,\n",
    "    'axes.labelweight': 'normal',\n",
    "    'font.family': 'DejaVu Sans',\n",
    "    'font.size': 26,\n",
    "    'figure.figsize': (10,8),\n",
    "    'legend.fontsize': 26,\n",
    "    'legend.handlelength' : 2,\n",
    "    'legend.numpoints' : 1,\n",
    "    'axes.grid' : True,\n",
    "    'grid.alpha' : 0.3,\n",
    "}\n",
    "matplotlib.rcParams.update(mplparams)\n",
    "\n",
    "red = '#D60606'\n",
    "blue = '#0083DE'\n",
    "green = '#00BA75'\n",
    "yellow = '#FFC61E'\n",
    "purple = '#A433B3'\n",
    "orange = '#FD882E'\n",
    "color_arr = [red, blue, green, yellow, purple, orange]"
   ]
  },
  {
   "cell_type": "code",
   "execution_count": 6,
   "id": "8d24cb71",
   "metadata": {
    "ExecuteTime": {
     "end_time": "2025-04-29T00:57:42.842055Z",
     "start_time": "2025-04-29T00:57:42.808571Z"
    }
   },
   "outputs": [],
   "source": [
    "srate = 4096*4\n",
    "duration = 2\n",
    "t_range=np.arange(-duration/2,duration/2,1/srate)\n",
    "IMR = [60, 0.7]\n",
    "mass = qnm_filter.Filter.mass_unit(IMR[0])\n",
    "omega220 = qnm.modes_cache(s=-2, l=2, m=2, n=0)(a=IMR[1])[0]\n",
    "omega221 = qnm.modes_cache(s=-2, l=2, m=2, n=1)(a=IMR[1])[0]\n",
    "\n",
    "mmax = 8.4 * 1e-21\n",
    "phase1 = 0 #random.uniform(0, 2 * np.pi)\n",
    "A220x = mmax * np.cos(phase1)\n",
    "A220y = mmax * np.sin(phase1)\n",
    "phase2 = 0 #random.uniform(0, 2 * np.pi)\n",
    "A221x = mmax * np.cos(phase2)\n",
    "A221y = mmax * np.sin(phase2)\n",
    "\n",
    "power220 = 1 #random.uniform(0.005, 0.3)\n",
    "power221 = 1 #random.uniform(0.005, 0.3)\n",
    "amp220 = np.sqrt(power220)\n",
    "amp221 = np.sqrt(power221)\n",
    "signal220 = np.real(amp220 * (A220x + 1j*A220y) * np.exp(-1j * omega220 * np.abs(t_range / mass)))\n",
    "signal221 = np.real(amp221 * (A221x + 1j * A221y) * np.exp(-1j * omega221 * np.abs(t_range / mass)))\n",
    "signal = signal220 #+ signal221\n",
    "\n",
    "# #Loop use to be here:\n",
    "# bilby_ifo = qnm_filter.set_bilby_predefined_ifo(\n",
    "# \"H1\", sampling_frequency, duration, start_time=-duration / 2\n",
    "# )\n",
    "# signalH_noise = qnm_filter.bilby_get_strain(bilby_ifo, 0.0)\t\n",
    "# signalH_no_noise = qnm_filter.RealData(signal, index=t_range, ifo=\"H1\")\n",
    "# signalH = signalH_no_noise + signalH_noise"
   ]
  },
  {
   "cell_type": "code",
   "execution_count": null,
   "id": "c8efcc0b",
   "metadata": {},
   "outputs": [],
   "source": [
    "input = dict(model_list = [(2,2,0, 'p')],\n",
    "             t_init = 0,\n",
    "             segment_length = 0.2,\n",
    "             srate = srate,\n",
    "             ra = None, dec = None,)\n",
    "\n",
    "fit = qnm_filter.Network(segment_length=0.2, srate=4096 * 1, t_init=3.0 * mass)\n",
    "fit.original_data[\"H1\"] = signalH\n",
    "fit.detector_alignment()\n",
    "fit.pure_noise = {}\n",
    "fit.pure_noise[\"H1\"] = signalH_noise\n",
    "fit.pure_nr = {}\n",
    "fit.pure_nr[\"H1\"] = signalH_no_noise\n",
    "\n",
    "fit.condition_data(\"original_data\")\n",
    "fit.condition_data(\"pure_noise\")\n",
    "fit.condition_data(\"pure_nr\")\n",
    "fit.compute_acfs(\"pure_noise\")\n",
    "fit.cholesky_decomposition()\n",
    "fit.first_index()\n",
    "\n",
    "data = fit.truncate_data(fit.original_data)['H1']\n",
    "fit.pure_nr = {}\n",
    "\n",
    "fit.pure_nr[\"H1\"] = qnm_filter.RealData(signal220+signal221, index=t_range, ifo=\"H1\")\n",
    "fit.condition_data(\"pure_nr\")\n",
    "template_both = fit.truncate_data(fit.pure_nr)[\"H1\"]\n",
    "\n",
    "fit.pure_nr[\"H1\"] = qnm_filter.RealData(signal220, index=t_range, ifo=\"H1\")\n",
    "fit.condition_data(\"pure_nr\")\n",
    "template_220 = fit.truncate_data(fit.pure_nr)[\"H1\"]\n",
    "\n",
    "fit.pure_nr[\"H1\"] = qnm_filter.RealData(signal221, index=t_range, ifo=\"H1\")\n",
    "fit.condition_data(\"pure_nr\")\n",
    "template_221 = fit.truncate_data(fit.pure_nr)[\"H1\"]"
   ]
  }
 ],
 "metadata": {
  "kernelspec": {
   "display_name": "Python 3 (ipykernel)",
   "language": "python",
   "name": "python3"
  },
  "language_info": {
   "codemirror_mode": {
    "name": "ipython",
    "version": 3
   },
   "file_extension": ".py",
   "mimetype": "text/x-python",
   "name": "python",
   "nbconvert_exporter": "python",
   "pygments_lexer": "ipython3",
   "version": "3.10.8"
  },
  "toc": {
   "base_numbering": 1,
   "nav_menu": {},
   "number_sections": true,
   "sideBar": true,
   "skip_h1_title": true,
   "title_cell": "Table of Contents",
   "title_sidebar": "Contents",
   "toc_cell": false,
   "toc_position": {},
   "toc_section_display": true,
   "toc_window_display": false
  }
 },
 "nbformat": 4,
 "nbformat_minor": 5
}
